{
  "nbformat": 4,
  "nbformat_minor": 0,
  "metadata": {
    "colab": {
      "provenance": [],
      "machine_shape": "hm",
      "gpuType": "T4",
      "authorship_tag": "ABX9TyMP3WWplgtYMjm8DBgZiStF",
      "include_colab_link": true
    },
    "kernelspec": {
      "name": "python3",
      "display_name": "Python 3"
    },
    "language_info": {
      "name": "python"
    },
    "accelerator": "GPU"
  },
  "cells": [
    {
      "cell_type": "markdown",
      "metadata": {
        "id": "view-in-github",
        "colab_type": "text"
      },
      "source": [
        "<a href=\"https://colab.research.google.com/github/marlo37/Keras/blob/main/2_functional_api.ipynb\" target=\"_parent\"><img src=\"https://colab.research.google.com/assets/colab-badge.svg\" alt=\"Open In Colab\"/></a>"
      ]
    },
    {
      "cell_type": "markdown",
      "source": [
        "##### Copyright 2020 The TensorFlow Authors."
      ],
      "metadata": {
        "id": "EM0HBhcJ58dY"
      }
    },
    {
      "cell_type": "code",
      "execution_count": null,
      "metadata": {
        "id": "gyj2fhZr52eB"
      },
      "outputs": [],
      "source": [
        "#@title Licensed under the Apache License, Version 2.0 (the \"License\");\n",
        "# you may not use this file except in compliance with the License.\n",
        "# You may obtain a copy of the License at\n",
        "#\n",
        "# https://www.apache.org/licenses/LICENSE-2.0\n",
        "#\n",
        "# Unless required by applicable law or agreed to in writing, software\n",
        "# distributed under the License is distributed on an \"AS IS\" BASIS,\n",
        "# WITHOUT WARRANTIES OR CONDITIONS OF ANY KIND, either express or implied.\n",
        "# See the License for the specific language governing permissions and\n",
        "# limitations under the License."
      ]
    },
    {
      "cell_type": "markdown",
      "source": [
        "# The Functional API"
      ],
      "metadata": {
        "id": "8MWSB01s6Ach"
      }
    },
    {
      "cell_type": "markdown",
      "metadata": {
        "id": "d169f4a559d5"
      },
      "source": [
        "<table class=\"tfo-notebook-buttons\" align=\"left\">\n",
        "  <td>\n",
        "    <a target=\"_blank\" href=\"https://www.tensorflow.org/guide/keras/functional\"><img src=\"https://www.tensorflow.org/images/tf_logo_32px.png\" />View on TensorFlow.org</a>\n",
        "  </td>\n",
        "  <td>\n",
        "    <a target=\"_blank\" href=\"https://colab.research.google.com/github/tensorflow/docs/blob/snapshot-keras/site/en/guide/keras/functional.ipynb\"><img src=\"https://www.tensorflow.org/images/colab_logo_32px.png\" />Run in Google Colab</a>\n",
        "  </td>\n",
        "  <td>\n",
        "    <a target=\"_blank\" href=\"https://github.com/keras-team/keras-io/blob/master/guides/functional_api.py\"><img src=\"https://www.tensorflow.org/images/GitHub-Mark-32px.png\" />View source on GitHub</a>\n",
        "  </td>\n",
        "  <td>\n",
        "    <a href=\"https://storage.googleapis.com/tensorflow_docs/docs/site/en/guide/keras/functional.ipynb\"><img src=\"https://www.tensorflow.org/images/download_logo_32px.png\" />Download notebook</a>\n",
        "  </td>\n",
        "</table>"
      ]
    },
    {
      "cell_type": "markdown",
      "source": [
        "## Setup"
      ],
      "metadata": {
        "id": "vN2u_hjg6GEK"
      }
    },
    {
      "cell_type": "code",
      "source": [
        "import numpy as np\n",
        "import tensorflow as tf\n",
        "from tensorflow import keras\n",
        "from tensorflow.keras import layers"
      ],
      "metadata": {
        "id": "4ZbLhKsA6HK2"
      },
      "execution_count": 1,
      "outputs": []
    },
    {
      "cell_type": "markdown",
      "source": [
        "## Introduction\n",
        "\n",
        "The Keras *functional API* is a way to create models that are more flexible\n",
        "than the `tf.keras.Sequential` API. The functional API can handle models\n",
        "with non-linear topology, shared layers, and even multiple inputs or outputs.\n",
        "\n",
        "The main idea is that a deep learning model is usually\n",
        "a directed acyclic graph (DAG) of layers.\n",
        "So the functional API is a way to build *graphs of layers*.\n",
        "\n",
        "Consider the following model:\n",
        "\n",
        "Keras *functional API*는 tf.keras.Sequential API보다 더 유연한 모델을 생성하는 방법입니다. *functional API* 는 비선형 토폴로지, 공유 레이어, 여러 입력 또는 출력을 포함하는 모델을 처리할 수 있습니다.\n",
        "\n",
        "주요 아이디어는 딥 러닝 모델이 일반적으로 layers에 대한 방향성 비순환 그래프(DAG)라는 것입니다. 따라서 *functional API*는 layers의 그래프를 작성하는 방법입니다.\n",
        "\n",
        "다음 모델을 고려하십시오.\n",
        "\n",
        "```\n",
        "(input: 784-dimensional vectors)\n",
        "       ↧\n",
        "[Dense (64 units, relu activation)]\n",
        "       ↧\n",
        "[Dense (64 units, relu activation)]\n",
        "       ↧\n",
        "[Dense (10 units, softmax activation)]\n",
        "       ↧\n",
        "(output: logits of a probability distribution over 10 classes)\n",
        "```\n",
        "\n",
        "This is a basic graph with three layers.\n",
        "To build this model using the functional API, start by creating an input node:\n",
        "\n",
        "3개의 레이어가 있는 기본 그래프입니다. functional API를 사용하여 이 모델을 빌드하려면 먼저 입력 노드를 생성하십시오."
      ],
      "metadata": {
        "id": "RtW83-W56UzX"
      }
    },
    {
      "cell_type": "code",
      "source": [
        "inputs = keras.Input(shape=(784,)) # mnist grayscale 28 * 28"
      ],
      "metadata": {
        "id": "VzDj2rXk6PWN"
      },
      "execution_count": 2,
      "outputs": []
    },
    {
      "cell_type": "markdown",
      "source": [
        "The shape of the data is set as a 784-dimensional vector.\n",
        "The batch size is always omitted since only the shape of each sample is specified.\n",
        "\n",
        "If, for example, you have an image input with a shape of `(32, 32, 3)`,\n",
        "you would use:"
      ],
      "metadata": {
        "id": "XkUY90S56Y5E"
      }
    },
    {
      "cell_type": "markdown",
      "source": [
        "데이터의 shape은 784차원 벡터로 설정됩니다. 각 샘플의 shape만 지정되므로 batch size는 항상 생략됩니다.\n",
        "\n",
        "예를 들어 shape이 (32, 32, 3)인 이미지 입력이 있는 경우 다음을 사용합니다."
      ],
      "metadata": {
        "id": "YnO8naqW6b-Q"
      }
    },
    {
      "cell_type": "code",
      "source": [
        "# Just for demonstration purposes.\n",
        "img_inputs = keras.Input(shape=(32, 32, 3))"
      ],
      "metadata": {
        "id": "rHgwqmHJ6Cq1"
      },
      "execution_count": 3,
      "outputs": []
    },
    {
      "cell_type": "code",
      "source": [
        "img_inputs.shape"
      ],
      "metadata": {
        "colab": {
          "base_uri": "https://localhost:8080/"
        },
        "id": "kZnujn3P6epO",
        "outputId": "75d0072e-0896-4f40-91b2-bbf9269a2964"
      },
      "execution_count": 4,
      "outputs": [
        {
          "output_type": "execute_result",
          "data": {
            "text/plain": [
              "TensorShape([None, 32, 32, 3])"
            ]
          },
          "metadata": {},
          "execution_count": 4
        }
      ]
    },
    {
      "cell_type": "markdown",
      "source": [
        "The `inputs` that is returned contains information about the shape and `dtype`\n",
        "of the input data that you feed to your model.\n",
        "Here's the shape:"
      ],
      "metadata": {
        "id": "ZzxqbxXm6gan"
      }
    },
    {
      "cell_type": "markdown",
      "source": [
        "반환되는 `input`에는 모델에 제공하는 입력 데이터의 shape 및 dtype에 대한 정보가 포함됩니다. shape은 다음과 같습니다."
      ],
      "metadata": {
        "id": "yZFZ8iQ36huD"
      }
    },
    {
      "cell_type": "code",
      "source": [
        "inputs.shape"
      ],
      "metadata": {
        "colab": {
          "base_uri": "https://localhost:8080/"
        },
        "id": "2_LyVlBD6i9q",
        "outputId": "4f7a3e39-8de7-43cb-e1d0-cfb40eedec7b"
      },
      "execution_count": 5,
      "outputs": [
        {
          "output_type": "execute_result",
          "data": {
            "text/plain": [
              "TensorShape([None, 784])"
            ]
          },
          "metadata": {},
          "execution_count": 5
        }
      ]
    },
    {
      "cell_type": "markdown",
      "source": [
        "Here's the dtype:"
      ],
      "metadata": {
        "id": "SLAA4Rks6kmO"
      }
    },
    {
      "cell_type": "code",
      "source": [
        "inputs.dtype"
      ],
      "metadata": {
        "colab": {
          "base_uri": "https://localhost:8080/"
        },
        "id": "4SwXq1ch6lv5",
        "outputId": "e36cd8b2-d153-4404-bb23-6e8bac14189d"
      },
      "execution_count": 6,
      "outputs": [
        {
          "output_type": "execute_result",
          "data": {
            "text/plain": [
              "tf.float32"
            ]
          },
          "metadata": {},
          "execution_count": 6
        }
      ]
    },
    {
      "cell_type": "markdown",
      "source": [
        "You create a new node in the graph of layers by calling a layer on this `inputs`\n",
        "object:"
      ],
      "metadata": {
        "id": "dnhok4ka6nro"
      }
    },
    {
      "cell_type": "code",
      "source": [
        "dense = layers.Dense(64, activation=\"relu\")\n",
        "x = dense(inputs)"
      ],
      "metadata": {
        "id": "CvFgXVOQ6o4q"
      },
      "execution_count": 7,
      "outputs": []
    },
    {
      "cell_type": "markdown",
      "source": [
        "The \"layer call\" action is like drawing an arrow from \"inputs\" to this layer\n",
        "you created.\n",
        "You're \"passing\" the inputs to the `dense` layer, and you get `x` as the output.\n",
        "\n",
        "Let's add a few more layers to the graph of layers:"
      ],
      "metadata": {
        "id": "uQGGEX0A6q2b"
      }
    },
    {
      "cell_type": "markdown",
      "source": [
        "\"layer call\" 액션은 \"입력\"에서 여러분이 생성한 해당 레이어로 화살표를 그리는 것과 같습니다. 입력을 `dense` 레이어로 \"전달\"하고 출력으로 x를 얻습니다.\n",
        "\n",
        "레이어 그래프에 레이어를 몇 개 더 추가해 보겠습니다:"
      ],
      "metadata": {
        "id": "eyk93_ij6sRI"
      }
    },
    {
      "cell_type": "code",
      "source": [
        "x = layers.Dense(64, activation=\"relu\")(x)\n",
        "outputs = layers.Dense(10)(x)"
      ],
      "metadata": {
        "id": "LaYIYWn16tKV"
      },
      "execution_count": 8,
      "outputs": []
    },
    {
      "cell_type": "markdown",
      "source": [
        "At this point, you can create a `Model` by specifying its inputs and outputs\n",
        "in the graph of layers:"
      ],
      "metadata": {
        "id": "ipUlMv-O6uqr"
      }
    },
    {
      "cell_type": "markdown",
      "source": [
        "이 시점에, 레이어 그래프에서 입력 및 출력을 지정하여 `Model`을 생성할 수 있습니다:"
      ],
      "metadata": {
        "id": "10TLxg5K6wFS"
      }
    },
    {
      "cell_type": "code",
      "source": [
        "model = keras.Model(inputs=inputs, outputs=outputs, name=\"mnist_model\")"
      ],
      "metadata": {
        "id": "2atUhKiA6w97"
      },
      "execution_count": 9,
      "outputs": []
    },
    {
      "cell_type": "code",
      "source": [
        "model.summary()"
      ],
      "metadata": {
        "colab": {
          "base_uri": "https://localhost:8080/"
        },
        "id": "kUVl6eCI6yRu",
        "outputId": "3f3eee72-4747-4bb5-fbb2-d54d280f1b34"
      },
      "execution_count": 10,
      "outputs": [
        {
          "output_type": "stream",
          "name": "stdout",
          "text": [
            "Model: \"mnist_model\"\n",
            "_________________________________________________________________\n",
            " Layer (type)                Output Shape              Param #   \n",
            "=================================================================\n",
            " input_1 (InputLayer)        [(None, 784)]             0         \n",
            "                                                                 \n",
            " dense (Dense)               (None, 64)                50240     \n",
            "                                                                 \n",
            " dense_1 (Dense)             (None, 64)                4160      \n",
            "                                                                 \n",
            " dense_2 (Dense)             (None, 10)                650       \n",
            "                                                                 \n",
            "=================================================================\n",
            "Total params: 55050 (215.04 KB)\n",
            "Trainable params: 55050 (215.04 KB)\n",
            "Non-trainable params: 0 (0.00 Byte)\n",
            "_________________________________________________________________\n"
          ]
        }
      ]
    },
    {
      "cell_type": "markdown",
      "source": [
        "model = keras.Model(inputs=inputs, outputs=outputs, name=\"mnist_model\")"
      ],
      "metadata": {
        "id": "C3ypKZRv62bS"
      }
    },
    {
      "cell_type": "code",
      "source": [
        "keras.utils.plot_model(model, \"my_first_model.png\")"
      ],
      "metadata": {
        "colab": {
          "base_uri": "https://localhost:8080/",
          "height": 369
        },
        "id": "TcfAAIrv63be",
        "outputId": "1a61a4b3-2cb2-4ccc-c074-a6bfdb810574"
      },
      "execution_count": 11,
      "outputs": [
        {
          "output_type": "execute_result",
          "data": {
            "image/png": "[encoded data removed]",
            "text/plain": [
              "<IPython.core.display.Image object>"
            ]
          },
          "metadata": {},
          "execution_count": 11
        }
      ]
    },
    {
      "cell_type": "markdown",
      "source": [
        "And, optionally, display the input and output shapes of each layer\n",
        "in the plotted graph:"
      ],
      "metadata": {
        "id": "N2VwnnWX65bW"
      }
    },
    {
      "cell_type": "code",
      "source": [
        "keras.utils.plot_model(model, \"my_first_model_with_shape_info.png\", show_shapes=True)"
      ],
      "metadata": {
        "colab": {
          "base_uri": "https://localhost:8080/",
          "height": 422
        },
        "id": "Hzenb5i966oy",
        "outputId": "ee373f97-52c9-4812-dc3d-ce829b2b2733"
      },
      "execution_count": 12,
      "outputs": [
        {
          "output_type": "execute_result",
          "data": {
            "image/png": "[encoded data removed]",
            "text/plain": [
              "<IPython.core.display.Image object>"
            ]
          },
          "metadata": {},
          "execution_count": 12
        }
      ]
    },
    {
      "cell_type": "markdown",
      "source": [
        "This figure and the code are almost identical. In the code version,\n",
        "the connection arrows are replaced by the call operation.\n",
        "\n",
        "A \"graph of layers\" is an intuitive mental image for a deep learning model,\n",
        "and the functional API is a way to create models that closely mirrors this."
      ],
      "metadata": {
        "id": "yZa06vD17EYW"
      }
    },
    {
      "cell_type": "markdown",
      "source": [
        "이 그림과 코드는 거의 동일합니다. 코드 버전에서 연결 화살표는 호출 작업으로 대체됩니다.\n",
        "\n",
        "\"계층 그래프\"는 딥 러닝 모델에 대한 직관적인 정신적 이미지이며 functional API는 이를 밀접하게 반영하는 모델을 생성하는 방법입니다."
      ],
      "metadata": {
        "id": "6ON9IP6h7F3i"
      }
    },
    {
      "cell_type": "markdown",
      "source": [
        "## Training, evaluation, and inference\n",
        "\n",
        "Training, evaluation, and inference work exactly in the same way for models\n",
        "built using the functional API as for `Sequential` models.\n",
        "\n",
        "The `Model` class offers a built-in training loop (the `fit()` method)\n",
        "and a built-in evaluation loop (the `evaluate()` method). Note\n",
        "that you can easily [customize these loops](https://www.tensorflow.org/guide/keras/customizing_what_happens_in_fit/)\n",
        "to implement training routines beyond supervised learning\n",
        "(e.g. [GANs](/examples/generative/dcgan_overriding_train_step/)).\n",
        "\n",
        "Here, load the MNIST image data, reshape it into vectors,\n",
        "fit the model on the data (while monitoring performance on a validation split),\n",
        "then evaluate the model on the test data:"
      ],
      "metadata": {
        "id": "WOLhm8O67HGX"
      }
    },
    {
      "cell_type": "markdown",
      "source": [
        "Training, evaluation, 그리고 inference은 Sequential 모델에서와 같이 `functional API`를 사용하여 구축된 모델에서 정확히 동일한 방식으로 작동합니다.\n",
        "\n",
        "`Model` 클래스는 내장 훈련 루프(fit() 메서드)와 내장 평가 루프(evaluate() 메서드)를 제공합니다. 이러한 루프를 쉽게 사용자 정의하여 지도 학습(예: GAN) 이상의 훈련 루틴을 구현할 수 있습니다.\n",
        "\n",
        "여기에서 MNIST 이미지 데이터를 로드하고 벡터로 변형하고 데이터에 모델을 맞춘 다음(검증 분할에서 성능을 모니터링하는 동안) 테스트 데이터에서 모델을 평가합니다."
      ],
      "metadata": {
        "id": "6A9kEBVv7Jc_"
      }
    },
    {
      "cell_type": "code",
      "source": [
        "(x_train, y_train), (x_test, y_test) = keras.datasets.mnist.load_data()\n",
        "print(x_train.shape)\n"
      ],
      "metadata": {
        "colab": {
          "base_uri": "https://localhost:8080/"
        },
        "id": "nDB_6sOK7KsX",
        "outputId": "73a4865a-a4ee-4b00-c801-ee9d3816fa95"
      },
      "execution_count": 13,
      "outputs": [
        {
          "output_type": "stream",
          "name": "stdout",
          "text": [
            "Downloading data from https://storage.googleapis.com/tensorflow/tf-keras-datasets/mnist.npz\n",
            "11490434/11490434 [==============================] - 1s 0us/step\n",
            "(60000, 28, 28)\n"
          ]
        }
      ]
    },
    {
      "cell_type": "code",
      "source": [
        "x_train = x_train.reshape(60000, 784).astype(\"float32\") / 255\n",
        "x_test = x_test.reshape(10000, 784).astype(\"float32\") / 255\n",
        "\n",
        "# tf.keras.metrics.BinaryAccuracy,\n",
        "# tf.keras.metrics.CategoricalAccuracy,\n",
        "# tf.keras.metrics.SparseCategoricalAccuracy\n",
        "\n",
        "\n",
        "model.compile(\n",
        "    loss=keras.losses.SparseCategoricalCrossentropy(from_logits=True),\n",
        "    optimizer=keras.optimizers.RMSprop(),\n",
        "    metrics=[\"accuracy\"], #tf.keras.metrics.Accuracy\n",
        ")\n",
        "\n",
        "history = model.fit(x_train, y_train, batch_size=64, epochs=10, validation_split=0.2)"
      ],
      "metadata": {
        "colab": {
          "base_uri": "https://localhost:8080/"
        },
        "id": "A4ojU0rh7M98",
        "outputId": "07911399-4bad-41f5-eb20-5c934983c72a"
      },
      "execution_count": 14,
      "outputs": [
        {
          "output_type": "stream",
          "name": "stdout",
          "text": [
            "Epoch 1/10\n",
            "750/750 [==============================] - 4s 3ms/step - loss: 0.3538 - accuracy: 0.9011 - val_loss: 0.1915 - val_accuracy: 0.9430\n",
            "Epoch 2/10\n",
            "750/750 [==============================] - 2s 3ms/step - loss: 0.1640 - accuracy: 0.9514 - val_loss: 0.1504 - val_accuracy: 0.9578\n",
            "Epoch 3/10\n",
            "750/750 [==============================] - 2s 3ms/step - loss: 0.1204 - accuracy: 0.9636 - val_loss: 0.1268 - val_accuracy: 0.9628\n",
            "Epoch 4/10\n",
            "750/750 [==============================] - 2s 3ms/step - loss: 0.0963 - accuracy: 0.9714 - val_loss: 0.1085 - val_accuracy: 0.9688\n",
            "Epoch 5/10\n",
            "750/750 [==============================] - 2s 3ms/step - loss: 0.0804 - accuracy: 0.9766 - val_loss: 0.1026 - val_accuracy: 0.9703\n",
            "Epoch 6/10\n",
            "750/750 [==============================] - 2s 3ms/step - loss: 0.0672 - accuracy: 0.9797 - val_loss: 0.1117 - val_accuracy: 0.9687\n",
            "Epoch 7/10\n",
            "750/750 [==============================] - 2s 3ms/step - loss: 0.0575 - accuracy: 0.9827 - val_loss: 0.1075 - val_accuracy: 0.9713\n",
            "Epoch 8/10\n",
            "750/750 [==============================] - 2s 3ms/step - loss: 0.0497 - accuracy: 0.9846 - val_loss: 0.1114 - val_accuracy: 0.9711\n",
            "Epoch 9/10\n",
            "750/750 [==============================] - 2s 3ms/step - loss: 0.0429 - accuracy: 0.9871 - val_loss: 0.1014 - val_accuracy: 0.9742\n",
            "Epoch 10/10\n",
            "750/750 [==============================] - 2s 3ms/step - loss: 0.0386 - accuracy: 0.9882 - val_loss: 0.1217 - val_accuracy: 0.9698\n"
          ]
        }
      ]
    },
    {
      "cell_type": "code",
      "source": [
        "test_scores = model.evaluate(x_test, y_test, verbose=2)\n",
        "print(\"Test loss:\", test_scores[0])\n",
        "print(\"Test accuracy:\", test_scores[1])"
      ],
      "metadata": {
        "colab": {
          "base_uri": "https://localhost:8080/"
        },
        "id": "as7t73wF7VB_",
        "outputId": "d415738c-fdd6-450e-f93a-2f1931328ee9"
      },
      "execution_count": 15,
      "outputs": [
        {
          "output_type": "stream",
          "name": "stdout",
          "text": [
            "313/313 - 1s - loss: 0.0995 - accuracy: 0.9740 - 506ms/epoch - 2ms/step\n",
            "Test loss: 0.09950483590364456\n",
            "Test accuracy: 0.9739999771118164\n"
          ]
        }
      ]
    },
    {
      "cell_type": "markdown",
      "source": [
        "For further reading, see the [training and evaluation](https://www.tensorflow.org/guide/keras/train_and_evaluate/) guide."
      ],
      "metadata": {
        "id": "WUekvZgM7XBW"
      }
    },
    {
      "cell_type": "markdown",
      "source": [
        "## Save and serialize\n",
        "\n",
        "Saving the model and serialization work the same way for models built using\n",
        "the functional API as they do for `Sequential` models. The standard way\n",
        "to save a functional model is to call `model.save()`\n",
        "to save the entire model as a single file. You can later recreate the same model\n",
        "from this file, even if the code that built the model is no longer available.\n",
        "\n",
        "모델 저장 및 직렬화는 `functional API`를 사용하여 빌드된 모델에 대해 `Sequential` 모델에 대해 수행하는 것과 동일한 방식으로 작동합니다. `functional` 모델을 저장하는 표준 방법은 `model.save()`를 호출하여 전체 모델을 단일 파일로 저장하는 것입니다. 나중에 모델을 빌드한 코드를 더 이상 사용할 수 없는 경우에도 이 파일에서 동일한 모델을 다시 만들 수 있습니다.\n",
        "\n",
        "This saved file includes the:\n",
        "- model architecture\n",
        "- model weight values (that were learned during training)\n",
        "- model training config, if any (as passed to `compile`)\n",
        "- optimizer and its state, if any (to restart training where you left off)"
      ],
      "metadata": {
        "id": "ScnrSfN87YaI"
      }
    },
    {
      "cell_type": "code",
      "source": [
        "model.save(\"path_to_my_model\")\n",
        "del model\n",
        "# Recreate the exact same model purely from the file:\n",
        "model = keras.models.load_model(\"path_to_my_model\")"
      ],
      "metadata": {
        "id": "WEMyqrHD7Zr9"
      },
      "execution_count": 16,
      "outputs": []
    },
    {
      "cell_type": "code",
      "source": [
        "model.summary()"
      ],
      "metadata": {
        "colab": {
          "base_uri": "https://localhost:8080/"
        },
        "id": "yQdghXhE7bG9",
        "outputId": "cc06acd1-1291-40ba-a6a1-038c78e24b2f"
      },
      "execution_count": 17,
      "outputs": [
        {
          "output_type": "stream",
          "name": "stdout",
          "text": [
            "Model: \"mnist_model\"\n",
            "_________________________________________________________________\n",
            " Layer (type)                Output Shape              Param #   \n",
            "=================================================================\n",
            " input_1 (InputLayer)        [(None, 784)]             0         \n",
            "                                                                 \n",
            " dense (Dense)               (None, 64)                50240     \n",
            "                                                                 \n",
            " dense_1 (Dense)             (None, 64)                4160      \n",
            "                                                                 \n",
            " dense_2 (Dense)             (None, 10)                650       \n",
            "                                                                 \n",
            "=================================================================\n",
            "Total params: 55050 (215.04 KB)\n",
            "Trainable params: 55050 (215.04 KB)\n",
            "Non-trainable params: 0 (0.00 Byte)\n",
            "_________________________________________________________________\n"
          ]
        }
      ]
    },
    {
      "cell_type": "markdown",
      "source": [
        "For details, read the model [serialization & saving](\n",
        "https://www.tensorflow.org/guide/keras/save_and_serialize/) guide."
      ],
      "metadata": {
        "id": "qQgVVqJ47evJ"
      }
    },
    {
      "cell_type": "markdown",
      "source": [
        "## Use the same graph of layers to define multiple models\n",
        "\n",
        "In the functional API, models are created by specifying their inputs\n",
        "and outputs in a graph of layers. That means that a single\n",
        "graph of layers can be used to generate multiple models.\n",
        "\n",
        "In the example below, you use the same stack of layers to instantiate two models:\n",
        "an `encoder` model that turns image inputs into 16-dimensional vectors,\n",
        "and an end-to-end `autoencoder` model for training."
      ],
      "metadata": {
        "id": "J7vp7w_F7f6M"
      }
    },
    {
      "cell_type": "markdown",
      "source": [
        "functional API에서 모델은 레이어 그래프에서 입력 및 출력을 지정하여 생성됩니다. 즉, 레이어의 단일 그래프를 사용하여 여러 모델을 생성할 수 있습니다.\n",
        "\n",
        "아래 예에서는 동일한 레이어 스택을 사용하여 이미지 입력을 16차원 벡터로 변환하는 `encoder` 모델과 훈련을 위한 종단 간(end-to-end) `autoencoder` 모델이라는 두 가지 모델을 인스턴스화합니다."
      ],
      "metadata": {
        "id": "xGo0a0AR7hPz"
      }
    },
    {
      "cell_type": "code",
      "source": [
        "encoder_input = keras.Input(shape=(28, 28, 1), name=\"img\")\n",
        "x = layers.Conv2D(16, 3, activation=\"relu\")(encoder_input)\n",
        "x = layers.Conv2D(32, 3, activation=\"relu\")(x)\n",
        "x = layers.MaxPooling2D(3)(x)\n",
        "x = layers.Conv2D(32, 3, activation=\"relu\")(x)\n",
        "x = layers.Conv2D(16, 3, activation=\"relu\")(x)\n",
        "encoder_output = layers.GlobalMaxPooling2D()(x)\n",
        "\n",
        "encoder = keras.Model(encoder_input, encoder_output, name=\"encoder\")\n",
        "encoder.summary()\n",
        "\n",
        "x = layers.Reshape((4, 4, 1))(encoder_output)\n",
        "x = layers.Conv2DTranspose(16, 3, activation=\"relu\")(x)\n",
        "x = layers.Conv2DTranspose(32, 3, activation=\"relu\")(x)\n",
        "x = layers.UpSampling2D(3)(x)\n",
        "x = layers.Conv2DTranspose(16, 3, activation=\"relu\")(x)\n",
        "decoder_output = layers.Conv2DTranspose(1, 3, activation=\"relu\")(x)\n",
        "\n",
        "autoencoder = keras.Model(encoder_input, decoder_output, name=\"autoencoder\")\n",
        "autoencoder.summary()"
      ],
      "metadata": {
        "colab": {
          "base_uri": "https://localhost:8080/"
        },
        "id": "gzb0vBw77iVW",
        "outputId": "7a5d9e12-698f-4612-9eca-58caec3994de"
      },
      "execution_count": 18,
      "outputs": [
        {
          "output_type": "stream",
          "name": "stdout",
          "text": [
            "Model: \"encoder\"\n",
            "_________________________________________________________________\n",
            " Layer (type)                Output Shape              Param #   \n",
            "=================================================================\n",
            " img (InputLayer)            [(None, 28, 28, 1)]       0         \n",
            "                                                                 \n",
            " conv2d (Conv2D)             (None, 26, 26, 16)        160       \n",
            "                                                                 \n",
            " conv2d_1 (Conv2D)           (None, 24, 24, 32)        4640      \n",
            "                                                                 \n",
            " max_pooling2d (MaxPooling2  (None, 8, 8, 32)          0         \n",
            " D)                                                              \n",
            "                                                                 \n",
            " conv2d_2 (Conv2D)           (None, 6, 6, 32)          9248      \n",
            "                                                                 \n",
            " conv2d_3 (Conv2D)           (None, 4, 4, 16)          4624      \n",
            "                                                                 \n",
            " global_max_pooling2d (Glob  (None, 16)                0         \n",
            " alMaxPooling2D)                                                 \n",
            "                                                                 \n",
            "=================================================================\n",
            "Total params: 18672 (72.94 KB)\n",
            "Trainable params: 18672 (72.94 KB)\n",
            "Non-trainable params: 0 (0.00 Byte)\n",
            "_________________________________________________________________\n",
            "Model: \"autoencoder\"\n",
            "_________________________________________________________________\n",
            " Layer (type)                Output Shape              Param #   \n",
            "=================================================================\n",
            " img (InputLayer)            [(None, 28, 28, 1)]       0         \n",
            "                                                                 \n",
            " conv2d (Conv2D)             (None, 26, 26, 16)        160       \n",
            "                                                                 \n",
            " conv2d_1 (Conv2D)           (None, 24, 24, 32)        4640      \n",
            "                                                                 \n",
            " max_pooling2d (MaxPooling2  (None, 8, 8, 32)          0         \n",
            " D)                                                              \n",
            "                                                                 \n",
            " conv2d_2 (Conv2D)           (None, 6, 6, 32)          9248      \n",
            "                                                                 \n",
            " conv2d_3 (Conv2D)           (None, 4, 4, 16)          4624      \n",
            "                                                                 \n",
            " global_max_pooling2d (Glob  (None, 16)                0         \n",
            " alMaxPooling2D)                                                 \n",
            "                                                                 \n",
            " reshape (Reshape)           (None, 4, 4, 1)           0         \n",
            "                                                                 \n",
            " conv2d_transpose (Conv2DTr  (None, 6, 6, 16)          160       \n",
            " anspose)                                                        \n",
            "                                                                 \n",
            " conv2d_transpose_1 (Conv2D  (None, 8, 8, 32)          4640      \n",
            " Transpose)                                                      \n",
            "                                                                 \n",
            " up_sampling2d (UpSampling2  (None, 24, 24, 32)        0         \n",
            " D)                                                              \n",
            "                                                                 \n",
            " conv2d_transpose_2 (Conv2D  (None, 26, 26, 16)        4624      \n",
            " Transpose)                                                      \n",
            "                                                                 \n",
            " conv2d_transpose_3 (Conv2D  (None, 28, 28, 1)         145       \n",
            " Transpose)                                                      \n",
            "                                                                 \n",
            "=================================================================\n",
            "Total params: 28241 (110.32 KB)\n",
            "Trainable params: 28241 (110.32 KB)\n",
            "Non-trainable params: 0 (0.00 Byte)\n",
            "_________________________________________________________________\n"
          ]
        }
      ]
    },
    {
      "cell_type": "markdown",
      "source": [
        "Here, the decoding architecture is strictly symmetrical\n",
        "to the encoding architecture, so the output shape is the same as\n",
        "the input shape `(28, 28, 1)`.\n",
        "\n",
        "The reverse of a `Conv2D` layer is a `Conv2DTranspose` layer,\n",
        "and the reverse of a `MaxPooling2D` layer is an `UpSampling2D` layer."
      ],
      "metadata": {
        "id": "mt-oDFKQ7k1j"
      }
    },
    {
      "cell_type": "markdown",
      "source": [
        "## All models are callable, just like layers\n",
        "\n",
        "You can treat any model as if it were a layer by invoking it on an `Input` or\n",
        "on the output of another layer. By calling a model you aren't just reusing\n",
        "the architecture of the model, you're also reusing its weights.\n",
        "\n",
        "To see this in action, here's a different take on the autoencoder example that\n",
        "creates an encoder model, a decoder model, and chains them in two calls\n",
        "to obtain the autoencoder model:"
      ],
      "metadata": {
        "id": "E6gD3VIQ7mXG"
      }
    },
    {
      "cell_type": "markdown",
      "source": [
        "입력 또는 다른 레이어의 출력에서 호출하여 모든 모델을 레이어인 것처럼 취급할 수 있습니다. 모델을 호출하면 모델의 아키텍처를 재사용할 뿐만 아니라 weight도 재사용합니다.\n",
        "\n",
        "이것이 실제로 작동하는지 확인하기 위해 인코더 모델, 디코더 모델을 만들고 자동 인코더 모델을 얻기 위해 두 호출로 연결하는 자동 인코더 예제에 대한 다른 해석이 있습니다."
      ],
      "metadata": {
        "id": "97mA6wuD7ntm"
      }
    },
    {
      "cell_type": "code",
      "source": [
        "encoder_input = keras.Input(shape=(28, 28, 1), name=\"original_img\")\n",
        "x = layers.Conv2D(16, 3, activation=\"relu\")(encoder_input)\n",
        "x = layers.Conv2D(32, 3, activation=\"relu\")(x)\n",
        "x = layers.MaxPooling2D(3)(x)\n",
        "x = layers.Conv2D(32, 3, activation=\"relu\")(x)\n",
        "x = layers.Conv2D(16, 3, activation=\"relu\")(x)\n",
        "encoder_output = layers.GlobalMaxPooling2D()(x)\n",
        "\n",
        "encoder = keras.Model(encoder_input, encoder_output, name=\"encoder\")\n",
        "encoder.summary()\n",
        "\n",
        "decoder_input = keras.Input(shape=(16,), name=\"encoded_img\")\n",
        "x = layers.Reshape((4, 4, 1))(decoder_input)\n",
        "x = layers.Conv2DTranspose(16, 3, activation=\"relu\")(x)\n",
        "x = layers.Conv2DTranspose(32, 3, activation=\"relu\")(x)\n",
        "x = layers.UpSampling2D(3)(x)\n",
        "x = layers.Conv2DTranspose(16, 3, activation=\"relu\")(x)\n",
        "decoder_output = layers.Conv2DTranspose(1, 3, activation=\"relu\")(x)\n",
        "\n",
        "decoder = keras.Model(decoder_input, decoder_output, name=\"decoder\")\n",
        "decoder.summary()\n",
        "\n",
        "autoencoder_input = keras.Input(shape=(28, 28, 1), name=\"img\")\n",
        "encoded_img = encoder(autoencoder_input)\n",
        "decoded_img = decoder(encoded_img)\n",
        "autoencoder = keras.Model(autoencoder_input, decoded_img, name=\"autoencoder\")\n",
        "autoencoder.summary()"
      ],
      "metadata": {
        "colab": {
          "base_uri": "https://localhost:8080/"
        },
        "id": "I8TDsXsr7pg_",
        "outputId": "3e9f791d-3bee-4d41-8d81-f1c08490ea4f"
      },
      "execution_count": 19,
      "outputs": [
        {
          "output_type": "stream",
          "name": "stdout",
          "text": [
            "Model: \"encoder\"\n",
            "_________________________________________________________________\n",
            " Layer (type)                Output Shape              Param #   \n",
            "=================================================================\n",
            " original_img (InputLayer)   [(None, 28, 28, 1)]       0         \n",
            "                                                                 \n",
            " conv2d_4 (Conv2D)           (None, 26, 26, 16)        160       \n",
            "                                                                 \n",
            " conv2d_5 (Conv2D)           (None, 24, 24, 32)        4640      \n",
            "                                                                 \n",
            " max_pooling2d_1 (MaxPoolin  (None, 8, 8, 32)          0         \n",
            " g2D)                                                            \n",
            "                                                                 \n",
            " conv2d_6 (Conv2D)           (None, 6, 6, 32)          9248      \n",
            "                                                                 \n",
            " conv2d_7 (Conv2D)           (None, 4, 4, 16)          4624      \n",
            "                                                                 \n",
            " global_max_pooling2d_1 (Gl  (None, 16)                0         \n",
            " obalMaxPooling2D)                                               \n",
            "                                                                 \n",
            "=================================================================\n",
            "Total params: 18672 (72.94 KB)\n",
            "Trainable params: 18672 (72.94 KB)\n",
            "Non-trainable params: 0 (0.00 Byte)\n",
            "_________________________________________________________________\n",
            "Model: \"decoder\"\n",
            "_________________________________________________________________\n",
            " Layer (type)                Output Shape              Param #   \n",
            "=================================================================\n",
            " encoded_img (InputLayer)    [(None, 16)]              0         \n",
            "                                                                 \n",
            " reshape_1 (Reshape)         (None, 4, 4, 1)           0         \n",
            "                                                                 \n",
            " conv2d_transpose_4 (Conv2D  (None, 6, 6, 16)          160       \n",
            " Transpose)                                                      \n",
            "                                                                 \n",
            " conv2d_transpose_5 (Conv2D  (None, 8, 8, 32)          4640      \n",
            " Transpose)                                                      \n",
            "                                                                 \n",
            " up_sampling2d_1 (UpSamplin  (None, 24, 24, 32)        0         \n",
            " g2D)                                                            \n",
            "                                                                 \n",
            " conv2d_transpose_6 (Conv2D  (None, 26, 26, 16)        4624      \n",
            " Transpose)                                                      \n",
            "                                                                 \n",
            " conv2d_transpose_7 (Conv2D  (None, 28, 28, 1)         145       \n",
            " Transpose)                                                      \n",
            "                                                                 \n",
            "=================================================================\n",
            "Total params: 9569 (37.38 KB)\n",
            "Trainable params: 9569 (37.38 KB)\n",
            "Non-trainable params: 0 (0.00 Byte)\n",
            "_________________________________________________________________\n",
            "Model: \"autoencoder\"\n",
            "_________________________________________________________________\n",
            " Layer (type)                Output Shape              Param #   \n",
            "=================================================================\n",
            " img (InputLayer)            [(None, 28, 28, 1)]       0         \n",
            "                                                                 \n",
            " encoder (Functional)        (None, 16)                18672     \n",
            "                                                                 \n",
            " decoder (Functional)        (None, 28, 28, 1)         9569      \n",
            "                                                                 \n",
            "=================================================================\n",
            "Total params: 28241 (110.32 KB)\n",
            "Trainable params: 28241 (110.32 KB)\n",
            "Non-trainable params: 0 (0.00 Byte)\n",
            "_________________________________________________________________\n"
          ]
        }
      ]
    },
    {
      "cell_type": "markdown",
      "source": [
        "As you can see, the model can be nested: a model can contain sub-models\n",
        "(since a model is just like a layer).\n",
        "A common use case for model nesting is *ensembling*.\n",
        "For example, here's how to ensemble a set of models into a single model\n",
        "that averages their predictions:"
      ],
      "metadata": {
        "id": "2GaHbYcS7tj8"
      }
    },
    {
      "cell_type": "markdown",
      "source": [
        "보시다시피 모델은 중첩될 수 있습니다. 모델은 하위 모델을 포함할 수 있습니다(모델은 레이어와 비슷하기 때문에). 모델 중첩의 일반적인 사용 사례는 앙상블입니다. 예를 들어, 모델 세트를 예측을 평균화하는 단일 모델로 앙상블하는 방법은 다음과 같습니다."
      ],
      "metadata": {
        "id": "2mVyzli-7u8b"
      }
    },
    {
      "cell_type": "code",
      "source": [
        "def get_model():\n",
        "    inputs = keras.Input(shape=(128,))\n",
        "    outputs = layers.Dense(1)(inputs)\n",
        "    return keras.Model(inputs, outputs)\n",
        "\n",
        "\n",
        "model1 = get_model()\n",
        "model2 = get_model()\n",
        "model3 = get_model()\n",
        "\n",
        "inputs = keras.Input(shape=(128,))\n",
        "y1 = model1(inputs)\n",
        "y2 = model2(inputs)\n",
        "y3 = model3(inputs)\n",
        "outputs = layers.average([y1, y2, y3])\n",
        "ensemble_model = keras.Model(inputs=inputs, outputs=outputs)\n",
        "ensemble_model.summary()"
      ],
      "metadata": {
        "colab": {
          "base_uri": "https://localhost:8080/"
        },
        "id": "q3sv2x_f7v9P",
        "outputId": "4409bec0-8c22-40c9-b012-058593bac2c9"
      },
      "execution_count": 20,
      "outputs": [
        {
          "output_type": "stream",
          "name": "stdout",
          "text": [
            "Model: \"model_3\"\n",
            "__________________________________________________________________________________________________\n",
            " Layer (type)                Output Shape                 Param #   Connected to                  \n",
            "==================================================================================================\n",
            " input_6 (InputLayer)        [(None, 128)]                0         []                            \n",
            "                                                                                                  \n",
            " model (Functional)          (None, 1)                    129       ['input_6[0][0]']             \n",
            "                                                                                                  \n",
            " model_1 (Functional)        (None, 1)                    129       ['input_6[0][0]']             \n",
            "                                                                                                  \n",
            " model_2 (Functional)        (None, 1)                    129       ['input_6[0][0]']             \n",
            "                                                                                                  \n",
            " average (Average)           (None, 1)                    0         ['model[0][0]',               \n",
            "                                                                     'model_1[0][0]',             \n",
            "                                                                     'model_2[0][0]']             \n",
            "                                                                                                  \n",
            "==================================================================================================\n",
            "Total params: 387 (1.51 KB)\n",
            "Trainable params: 387 (1.51 KB)\n",
            "Non-trainable params: 0 (0.00 Byte)\n",
            "__________________________________________________________________________________________________\n"
          ]
        }
      ]
    },
    {
      "cell_type": "markdown",
      "source": [
        "## Manipulate complex graph topologies\n",
        "\n",
        "### Models with multiple inputs and outputs\n",
        "\n",
        "The functional API makes it easy to manipulate multiple inputs and outputs.\n",
        "This cannot be handled with the `Sequential` API.\n",
        "\n",
        "For example, if you're building a system for ranking customer issue tickets by\n",
        "priority and routing them to the correct department,\n",
        "then the model will have three inputs:\n",
        "\n",
        "- the title of the ticket (text input),\n",
        "- the text body of the ticket (text input), and\n",
        "- any tags added by the user (categorical input)\n",
        "\n",
        "This model will have two outputs:\n",
        "\n",
        "- the priority score between 0 and 1 (scalar sigmoid output), and\n",
        "- the department that should handle the ticket (softmax output\n",
        "over the set of departments).\n",
        "\n",
        "You can build this model in a few lines with the functional API:"
      ],
      "metadata": {
        "id": "RXD9dpU-7yQ-"
      }
    },
    {
      "cell_type": "markdown",
      "source": [
        "functional API를 사용하면 여러 입력 및 출력을 쉽게 조작할 수 있습니다. 이것은 Sequential API로 처리할 수 없습니다.\n",
        "\n",
        "예를 들어 고객 발권 티켓의 우선 순위를 지정하고 올바른 부서로 라우팅하는 시스템을 구축하는 경우 모델에는 세 가지 입력이 있습니다.\n",
        "\n",
        "* 티켓 제목(텍스트 입력),\n",
        "* 티켓의 텍스트 본문(텍스트 입력),\n",
        "* 사용자가 추가한 모든 태그(카테고리 입력)\n",
        "\n",
        "이 모델에는 두 가지 출력이 있습니다.\n",
        "\n",
        "* 0과 1 사이의 우선 순위 점수(스칼라 시그모이드 출력),\n",
        "* 티켓을 처리해야 하는 부서(부서 집합에 대한 softmax 출력).\n",
        "\n",
        "functional API를 사용하여 몇 줄로 이 모델을 빌드할 수 있습니다."
      ],
      "metadata": {
        "id": "Xa1XvdLr7zu8"
      }
    },
    {
      "cell_type": "code",
      "source": [
        "num_tags = 12  # Number of unique issue tags\n",
        "num_words = 10000  # Size of vocabulary obtained when preprocessing text data\n",
        "num_departments = 4  # Number of departments for predictions\n",
        "\n",
        "title_input = keras.Input(\n",
        "    shape=(None,), name=\"title\"\n",
        ")  # Variable-length sequence of ints\n",
        "\n",
        "body_input = keras.Input(shape=(None,), name=\"body\")  # Variable-length sequence of ints\n",
        "\n",
        "tags_input = keras.Input(\n",
        "    shape=(num_tags,), name=\"tags\"\n",
        ")  # Binary vectors of size `num_tags`\n",
        "\n",
        "# Embed each word in the title into a 64-dimensional vector\n",
        "title_features = layers.Embedding(num_words, 64)(title_input)\n",
        "# Embed each word in the text into a 64-dimensional vector\n",
        "body_features = layers.Embedding(num_words, 64)(body_input)\n",
        "\n",
        "# Reduce sequence of embedded words in the title into a single 128-dimensional vector\n",
        "title_features = layers.LSTM(128)(title_features)\n",
        "# Reduce sequence of embedded words in the body into a single 32-dimensional vector\n",
        "body_features = layers.LSTM(32)(body_features)\n",
        "\n",
        "# Merge all available features into a single large vector via concatenation\n",
        "x = layers.concatenate([title_features, body_features, tags_input])\n",
        "\n",
        "# Stick a logistic regression for priority prediction on top of the features\n",
        "priority_pred = layers.Dense(1, name=\"priority\")(x)\n",
        "# Stick a department classifier on top of the features\n",
        "department_pred = layers.Dense(num_departments, name=\"department\")(x)\n",
        "\n",
        "# Instantiate an end-to-end model predicting both priority and department\n",
        "model = keras.Model(\n",
        "    inputs=[title_input, body_input, tags_input],\n",
        "    outputs=[priority_pred, department_pred],\n",
        ")"
      ],
      "metadata": {
        "id": "9cWiaJSV70y_"
      },
      "execution_count": 21,
      "outputs": []
    },
    {
      "cell_type": "markdown",
      "source": [
        "Now plot the model:"
      ],
      "metadata": {
        "id": "zEghXIFx73Dv"
      }
    },
    {
      "cell_type": "code",
      "source": [
        "keras.utils.plot_model(model, \"multi_input_and_output_model.png\", show_shapes=True)"
      ],
      "metadata": {
        "colab": {
          "base_uri": "https://localhost:8080/",
          "height": 533
        },
        "id": "uxlmU4o174Sp",
        "outputId": "bc688009-aadb-4ffd-abd2-37cce48bdc73"
      },
      "execution_count": 22,
      "outputs": [
        {
          "output_type": "execute_result",
          "data": {
            "image/png": "[encoded data removed]",
            "text/plain": [
              "<IPython.core.display.Image object>"
            ]
          },
          "metadata": {},
          "execution_count": 22
        }
      ]
    },
    {
      "cell_type": "markdown",
      "source": [
        "When compiling this model, you can assign different losses to each output.\n",
        "You can even assign different weights to each loss -- to modulate\n",
        "their contribution to the total training loss."
      ],
      "metadata": {
        "id": "rZaqoxGi8BWx"
      }
    },
    {
      "cell_type": "markdown",
      "source": [
        "이 모델을 컴파일할 때 각 출력에 다른 손실을 할당할 수 있습니다. 총 훈련 손실에 대한 기여도를 조절하기 위해 각 손실에 다른 가중치를 할당할 수도 있습니다."
      ],
      "metadata": {
        "id": "6PTCizeg8Cu-"
      }
    },
    {
      "cell_type": "code",
      "source": [
        "model.compile(\n",
        "    optimizer=keras.optimizers.RMSprop(1e-3),\n",
        "    loss=[\n",
        "        keras.losses.BinaryCrossentropy(from_logits=True),\n",
        "        keras.losses.CategoricalCrossentropy(from_logits=True),\n",
        "    ],\n",
        "    loss_weights=[1.0, 0.2],\n",
        ")"
      ],
      "metadata": {
        "id": "PCI1n59H8Dh7"
      },
      "execution_count": 23,
      "outputs": []
    },
    {
      "cell_type": "markdown",
      "source": [
        "Since the output layers have different names, you could also specify\n",
        "the losses and loss weights with the corresponding layer names:"
      ],
      "metadata": {
        "id": "YbhqpW_I8Fc2"
      }
    },
    {
      "cell_type": "code",
      "source": [
        "model.compile(\n",
        "    optimizer=keras.optimizers.RMSprop(1e-3),\n",
        "    loss={\n",
        "        \"priority\": keras.losses.BinaryCrossentropy(from_logits=True),\n",
        "        \"department\": keras.losses.CategoricalCrossentropy(from_logits=True),\n",
        "    },\n",
        "    loss_weights={\"priority\": 1.0, \"department\": 0.2},\n",
        ")"
      ],
      "metadata": {
        "id": "zpR_nhiW8GaC"
      },
      "execution_count": 24,
      "outputs": []
    },
    {
      "cell_type": "markdown",
      "source": [
        "Train the model by passing lists of NumPy arrays of inputs and targets:"
      ],
      "metadata": {
        "id": "MJjnwuLs8H0M"
      }
    },
    {
      "cell_type": "code",
      "source": [
        "# Dummy input data\n",
        "title_data = np.random.randint(num_words, size=(1280, 10))\n",
        "body_data = np.random.randint(num_words, size=(1280, 100))\n",
        "tags_data = np.random.randint(2, size=(1280, num_tags)).astype(\"float32\")\n",
        "\n",
        "# Dummy target data\n",
        "priority_targets = np.random.random(size=(1280, 1))\n",
        "dept_targets = np.random.randint(2, size=(1280, num_departments))\n",
        "\n",
        "model.fit(\n",
        "    {\"title\": title_data, \"body\": body_data, \"tags\": tags_data},\n",
        "    {\"priority\": priority_targets, \"department\": dept_targets},\n",
        "    epochs=2,\n",
        "    batch_size=32,\n",
        ")"
      ],
      "metadata": {
        "colab": {
          "base_uri": "https://localhost:8080/"
        },
        "id": "YWRakQ8c8IuU",
        "outputId": "5e99c052-4d4a-490f-da51-e959badb00f5"
      },
      "execution_count": 25,
      "outputs": [
        {
          "output_type": "stream",
          "name": "stdout",
          "text": [
            "Epoch 1/2\n",
            "40/40 [==============================] - 7s 82ms/step - loss: 1.2798 - priority_loss: 0.6997 - department_loss: 2.9004\n",
            "Epoch 2/2\n",
            "40/40 [==============================] - 2s 55ms/step - loss: 1.2885 - priority_loss: 0.7005 - department_loss: 2.9401\n"
          ]
        },
        {
          "output_type": "execute_result",
          "data": {
            "text/plain": [
              "<keras.src.callbacks.History at 0x7ddb345c1d80>"
            ]
          },
          "metadata": {},
          "execution_count": 25
        }
      ]
    },
    {
      "cell_type": "markdown",
      "source": [
        "When calling fit with a `Dataset` object, it should yield either a\n",
        "tuple of lists like `([title_data, body_data, tags_data], [priority_targets, dept_targets])`\n",
        "or a tuple of dictionaries like\n",
        "`({'title': title_data, 'body': body_data, 'tags': tags_data}, {'priority': priority_targets, 'department': dept_targets})`.\n",
        "\n",
        "For more detailed explanation, refer to the [training and evaluation](https://www.tensorflow.org/guide/keras/train_and_evaluate/) guide."
      ],
      "metadata": {
        "id": "r7nV_Bxl8Njg"
      }
    },
    {
      "cell_type": "markdown",
      "source": [
        "### A toy ResNet model\n",
        "\n",
        "In addition to models with multiple inputs and outputs,\n",
        "the functional API makes it easy to manipulate non-linear connectivity\n",
        "topologies -- these are models with layers that are not connected sequentially,\n",
        "which the `Sequential` API cannot handle.\n",
        "\n",
        "A common use case for this is residual connections.\n",
        "Let's build a toy ResNet model for CIFAR10 to demonstrate this:"
      ],
      "metadata": {
        "id": "y-4y7wkc8PXw"
      }
    },
    {
      "cell_type": "code",
      "source": [
        "inputs = keras.Input(shape=(32, 32, 3), name=\"img\")\n",
        "x = layers.Conv2D(32, 3, activation=\"relu\")(inputs)\n",
        "x = layers.Conv2D(64, 3, activation=\"relu\")(x)\n",
        "block_1_output = layers.MaxPooling2D(3)(x)\n",
        "\n",
        "x = layers.Conv2D(64, 3, activation=\"relu\", padding=\"same\")(block_1_output)\n",
        "x = layers.Conv2D(64, 3, activation=\"relu\", padding=\"same\")(x)\n",
        "block_2_output = layers.add([x, block_1_output])\n",
        "\n",
        "x = layers.Conv2D(64, 3, activation=\"relu\", padding=\"same\")(block_2_output)\n",
        "x = layers.Conv2D(64, 3, activation=\"relu\", padding=\"same\")(x)\n",
        "block_3_output = layers.add([x, block_2_output])\n",
        "\n",
        "x = layers.Conv2D(64, 3, activation=\"relu\")(block_3_output)\n",
        "x = layers.GlobalAveragePooling2D()(x)\n",
        "x = layers.Dense(256, activation=\"relu\")(x)\n",
        "x = layers.Dropout(0.5)(x)\n",
        "outputs = layers.Dense(10)(x)\n",
        "\n",
        "model = keras.Model(inputs, outputs, name=\"toy_resnet\")\n",
        "model.summary()"
      ],
      "metadata": {
        "colab": {
          "base_uri": "https://localhost:8080/"
        },
        "id": "W_UrMwYY8VVx",
        "outputId": "5698dc47-bfa5-4640-f055-dda5d13946bd"
      },
      "execution_count": 26,
      "outputs": [
        {
          "output_type": "stream",
          "name": "stdout",
          "text": [
            "Model: \"toy_resnet\"\n",
            "__________________________________________________________________________________________________\n",
            " Layer (type)                Output Shape                 Param #   Connected to                  \n",
            "==================================================================================================\n",
            " img (InputLayer)            [(None, 32, 32, 3)]          0         []                            \n",
            "                                                                                                  \n",
            " conv2d_8 (Conv2D)           (None, 30, 30, 32)           896       ['img[0][0]']                 \n",
            "                                                                                                  \n",
            " conv2d_9 (Conv2D)           (None, 28, 28, 64)           18496     ['conv2d_8[0][0]']            \n",
            "                                                                                                  \n",
            " max_pooling2d_2 (MaxPoolin  (None, 9, 9, 64)             0         ['conv2d_9[0][0]']            \n",
            " g2D)                                                                                             \n",
            "                                                                                                  \n",
            " conv2d_10 (Conv2D)          (None, 9, 9, 64)             36928     ['max_pooling2d_2[0][0]']     \n",
            "                                                                                                  \n",
            " conv2d_11 (Conv2D)          (None, 9, 9, 64)             36928     ['conv2d_10[0][0]']           \n",
            "                                                                                                  \n",
            " add (Add)                   (None, 9, 9, 64)             0         ['conv2d_11[0][0]',           \n",
            "                                                                     'max_pooling2d_2[0][0]']     \n",
            "                                                                                                  \n",
            " conv2d_12 (Conv2D)          (None, 9, 9, 64)             36928     ['add[0][0]']                 \n",
            "                                                                                                  \n",
            " conv2d_13 (Conv2D)          (None, 9, 9, 64)             36928     ['conv2d_12[0][0]']           \n",
            "                                                                                                  \n",
            " add_1 (Add)                 (None, 9, 9, 64)             0         ['conv2d_13[0][0]',           \n",
            "                                                                     'add[0][0]']                 \n",
            "                                                                                                  \n",
            " conv2d_14 (Conv2D)          (None, 7, 7, 64)             36928     ['add_1[0][0]']               \n",
            "                                                                                                  \n",
            " global_average_pooling2d (  (None, 64)                   0         ['conv2d_14[0][0]']           \n",
            " GlobalAveragePooling2D)                                                                          \n",
            "                                                                                                  \n",
            " dense_6 (Dense)             (None, 256)                  16640     ['global_average_pooling2d[0][\n",
            "                                                                    0]']                          \n",
            "                                                                                                  \n",
            " dropout (Dropout)           (None, 256)                  0         ['dense_6[0][0]']             \n",
            "                                                                                                  \n",
            " dense_7 (Dense)             (None, 10)                   2570      ['dropout[0][0]']             \n",
            "                                                                                                  \n",
            "==================================================================================================\n",
            "Total params: 223242 (872.04 KB)\n",
            "Trainable params: 223242 (872.04 KB)\n",
            "Non-trainable params: 0 (0.00 Byte)\n",
            "__________________________________________________________________________________________________\n"
          ]
        }
      ]
    },
    {
      "cell_type": "markdown",
      "source": [
        "Plot the model:"
      ],
      "metadata": {
        "id": "EmuZlm468XxP"
      }
    },
    {
      "cell_type": "code",
      "source": [
        "keras.utils.plot_model(model, \"mini_resnet.png\", show_shapes=True)"
      ],
      "metadata": {
        "colab": {
          "base_uri": "https://localhost:8080/",
          "height": 1000
        },
        "id": "NUzJuN2d8YsB",
        "outputId": "8a8ce19b-7315-4ead-d7fc-ebfaf1263cfa"
      },
      "execution_count": 27,
      "outputs": [
        {
          "output_type": "execute_result",
          "data": {
            "image/png": "[encoded data removed]",
            "text/plain": [
              "<IPython.core.display.Image object>"
            ]
          },
          "metadata": {},
          "execution_count": 27
        }
      ]
    },
    {
      "cell_type": "markdown",
      "source": [
        "Now train the model:"
      ],
      "metadata": {
        "id": "Xej-8LvD8cVr"
      }
    },
    {
      "cell_type": "code",
      "source": [
        "(x_train, y_train), (x_test, y_test) = keras.datasets.cifar10.load_data()\n",
        "\n",
        "x_train = x_train.astype(\"float32\") / 255.0\n",
        "x_test = x_test.astype(\"float32\") / 255.0\n",
        "print(y_train[0])\n",
        "y_train = keras.utils.to_categorical(y_train, 10)\n",
        "y_test = keras.utils.to_categorical(y_test, 10)\n",
        "print(y_train[0])\n",
        "\n"
      ],
      "metadata": {
        "colab": {
          "base_uri": "https://localhost:8080/"
        },
        "id": "deLHFKdQ8eLN",
        "outputId": "b99d9a45-a708-416e-f4c0-ba816235df37"
      },
      "execution_count": 28,
      "outputs": [
        {
          "output_type": "stream",
          "name": "stdout",
          "text": [
            "Downloading data from https://www.cs.toronto.edu/~kriz/cifar-10-python.tar.gz\n",
            "170498071/170498071 [==============================] - 11s 0us/step\n",
            "[6]\n",
            "[0. 0. 0. 0. 0. 0. 1. 0. 0. 0.]\n"
          ]
        }
      ]
    },
    {
      "cell_type": "code",
      "source": [
        "print(x_train.shape)"
      ],
      "metadata": {
        "colab": {
          "base_uri": "https://localhost:8080/"
        },
        "id": "oaUiFKqF8lO4",
        "outputId": "9bcea36f-c259-4160-c938-c59c1d17b741"
      },
      "execution_count": 29,
      "outputs": [
        {
          "output_type": "stream",
          "name": "stdout",
          "text": [
            "(50000, 32, 32, 3)\n"
          ]
        }
      ]
    },
    {
      "cell_type": "code",
      "source": [
        "model.compile(\n",
        "    optimizer=keras.optimizers.RMSprop(1e-3),\n",
        "    loss=keras.losses.CategoricalCrossentropy(from_logits=True),\n",
        "    metrics=[\"acc\"],\n",
        ")\n",
        "# We restrict the data to the first 1000 samples so as to limit execution time\n",
        "# on Colab. Try to train on the entire dataset until convergence!\n",
        "model.fit(x_train[:1000], y_train[:1000], batch_size=64, epochs=2, verbose=0, validation_split=0.2)"
      ],
      "metadata": {
        "colab": {
          "base_uri": "https://localhost:8080/"
        },
        "id": "bYUOgJPw8nKb",
        "outputId": "9db447c4-7360-46c7-973b-8fb7d0d1d7b1"
      },
      "execution_count": 30,
      "outputs": [
        {
          "output_type": "execute_result",
          "data": {
            "text/plain": [
              "<keras.src.callbacks.History at 0x7ddb2df38f10>"
            ]
          },
          "metadata": {},
          "execution_count": 30
        }
      ]
    },
    {
      "cell_type": "markdown",
      "source": [
        "## Shared layers\n",
        "\n",
        "Another good use for the functional API are models that use *shared layers*.\n",
        "Shared layers are layer instances that are reused multiple times in the same model --\n",
        "they learn features that correspond to multiple paths in the graph-of-layers.\n",
        "\n",
        "Shared layers are often used to encode inputs from similar spaces\n",
        "(say, two different pieces of text that feature similar vocabulary).\n",
        "They enable sharing of information across these different inputs,\n",
        "and they make it possible to train such a model on less data.\n",
        "If a given word is seen in one of the inputs,\n",
        "that will benefit the processing of all inputs that pass through the shared layer.\n",
        "\n",
        "To share a layer in the functional API, call the same layer instance multiple times.\n",
        "For instance, here's an `Embedding` layer shared across two different text inputs:"
      ],
      "metadata": {
        "id": "zVVbU0PN8qX-"
      }
    },
    {
      "cell_type": "code",
      "source": [
        "# Embedding for 1000 unique words mapped to 128-dimensional vectors\n",
        "shared_embedding = layers.Embedding(1000, 128)\n",
        "\n",
        "# Variable-length sequence of integers\n",
        "text_input_a = keras.Input(shape=(None,), dtype=\"int32\")\n",
        "\n",
        "# Variable-length sequence of integers\n",
        "text_input_b = keras.Input(shape=(None,), dtype=\"int32\")\n",
        "\n",
        "# Reuse the same layer to encode both inputs\n",
        "encoded_input_a = shared_embedding(text_input_a)\n",
        "encoded_input_b = shared_embedding(text_input_b)"
      ],
      "metadata": {
        "id": "IBc2QHhU8rbK"
      },
      "execution_count": 31,
      "outputs": []
    },
    {
      "cell_type": "markdown",
      "source": [
        "## Extract and reuse nodes in the graph of layers\n",
        "\n",
        "Because the graph of layers you are manipulating is a static data structure,\n",
        "it can be accessed and inspected. And this is how you are able to plot\n",
        "functional models as images.\n",
        "\n",
        "This also means that you can access the activations of intermediate layers\n",
        "(\"nodes\" in the graph) and reuse them elsewhere --\n",
        "which is very useful for something like feature extraction.\n",
        "\n",
        "Let's look at an example. This is a VGG19 model with weights pretrained on ImageNet:"
      ],
      "metadata": {
        "id": "U_JtXX-D8s-D"
      }
    },
    {
      "cell_type": "code",
      "source": [
        "vgg19 = tf.keras.applications.VGG19()  # Pre-Trained Model"
      ],
      "metadata": {
        "colab": {
          "base_uri": "https://localhost:8080/"
        },
        "id": "eyPlX5vy8uHr",
        "outputId": "cb055e8b-0821-4d48-9967-2360f01119e1"
      },
      "execution_count": 32,
      "outputs": [
        {
          "output_type": "stream",
          "name": "stdout",
          "text": [
            "Downloading data from https://storage.googleapis.com/tensorflow/keras-applications/vgg19/vgg19_weights_tf_dim_ordering_tf_kernels.h5\n",
            "574710816/574710816 [==============================] - 20s 0us/step\n"
          ]
        }
      ]
    },
    {
      "cell_type": "markdown",
      "source": [
        "And these are the intermediate activations of the model,\n",
        "obtained by querying the graph data structure:"
      ],
      "metadata": {
        "id": "8CSWZHJk83Wh"
      }
    },
    {
      "cell_type": "code",
      "source": [
        "features_list = [layer.output for layer in vgg19.layers]"
      ],
      "metadata": {
        "id": "pck2noGH84Oc"
      },
      "execution_count": 33,
      "outputs": []
    },
    {
      "cell_type": "markdown",
      "metadata": {
        "id": "e91a9dc2f5b0"
      },
      "source": [
        "Use these features to create a new feature-extraction model that returns\n",
        "the values of the intermediate layer activations:"
      ]
    },
    {
      "cell_type": "code",
      "source": [
        "feat_extraction_model = keras.Model(inputs=vgg19.input, outputs=features_list)\n",
        "\n",
        "img = np.random.random((1, 224, 224, 3)).astype(\"float32\")\n",
        "extracted_features = feat_extraction_model(img)"
      ],
      "metadata": {
        "id": "ie1EHijD86g1"
      },
      "execution_count": 34,
      "outputs": []
    },
    {
      "cell_type": "markdown",
      "metadata": {
        "id": "f2ac248fe202"
      },
      "source": [
        "This comes in handy for tasks like\n",
        "[neural style transfer](https://keras.io/examples/generative/neural_style_transfer/),\n",
        "among other things."
      ]
    },
    {
      "cell_type": "markdown",
      "metadata": {
        "id": "c894ba891064"
      },
      "source": [
        "## Extend the API using custom layers\n",
        "\n",
        "`tf.keras` includes a wide range of built-in layers, for example:\n",
        "\n",
        "- Convolutional layers: `Conv1D`, `Conv2D`, `Conv3D`, `Conv2DTranspose`\n",
        "- Pooling layers: `MaxPooling1D`, `MaxPooling2D`, `MaxPooling3D`, `AveragePooling1D`\n",
        "- RNN layers: `GRU`, `LSTM`, `ConvLSTM2D`\n",
        "- `BatchNormalization`, `Dropout`, `Embedding`, etc.\n",
        "\n",
        "But if you don't find what you need, it's easy to extend the API by creating\n",
        "your own layers. All layers subclass the `Layer` class and implement:\n",
        "\n",
        "- `call` method, that specifies the computation done by the layer.\n",
        "- `build` method, that creates the weights of the layer (this is just a style\n",
        "convention since you can create weights in `__init__`, as well).\n",
        "\n",
        "To learn more about creating layers from scratch, read\n",
        "[custom layers and models](https://www.tensorflow.org/guide/keras/custom_layers_and_models) guide.\n",
        "\n",
        "The following is a basic implementation of `tf.keras.layers.Dense`:"
      ]
    },
    {
      "cell_type": "code",
      "source": [
        "class CustomDense(layers.Layer):\n",
        "    def __init__(self, units=32):\n",
        "        super(CustomDense, self).__init__()\n",
        "        self.units = units\n",
        "\n",
        "    def build(self, input_shape):\n",
        "        print(\"called build method\")\n",
        "        self.w = self.add_weight(\n",
        "            shape=(input_shape[-1], self.units),\n",
        "            initializer=\"random_normal\",\n",
        "            trainable=True,\n",
        "        )\n",
        "        self.b = self.add_weight(\n",
        "            shape=(self.units,), initializer=\"random_normal\", trainable=True\n",
        "        )\n",
        "\n",
        "    def call(self, inputs):\n",
        "        print(\"called call method\")\n",
        "        return tf.matmul(inputs, self.w) + self.b\n",
        "\n",
        "\n",
        "inputs = keras.Input((4,))\n",
        "outputs = CustomDense(10)(inputs)\n",
        "\n",
        "model = keras.Model(inputs, outputs)"
      ],
      "metadata": {
        "colab": {
          "base_uri": "https://localhost:8080/"
        },
        "id": "Elf4zJGf9ITN",
        "outputId": "e68d5dac-70ff-4dc0-badb-68c4f51cb6d4"
      },
      "execution_count": 35,
      "outputs": [
        {
          "output_type": "stream",
          "name": "stdout",
          "text": [
            "called build method\n",
            "called call method\n"
          ]
        }
      ]
    },
    {
      "cell_type": "markdown",
      "metadata": {
        "id": "b8933568358c"
      },
      "source": [
        "For serialization support in your custom layer, define a `get_config`\n",
        "method that returns the constructor arguments of the layer instance:"
      ]
    },
    {
      "cell_type": "code",
      "source": [
        "class CustomDense(layers.Layer):\n",
        "    def __init__(self, units=32):\n",
        "        super(CustomDense, self).__init__()\n",
        "        self.units = units\n",
        "\n",
        "    def build(self, input_shape):\n",
        "        self.w = self.add_weight(\n",
        "            shape=(input_shape[-1], self.units),\n",
        "            initializer=\"random_normal\",\n",
        "            trainable=True,\n",
        "        )\n",
        "        self.b = self.add_weight(\n",
        "            shape=(self.units,), initializer=\"random_normal\", trainable=True\n",
        "        )\n",
        "\n",
        "    def call(self, inputs):\n",
        "        return tf.matmul(inputs, self.w) + self.b\n",
        "\n",
        "    def get_config(self):\n",
        "        return {\"units\": self.units}\n",
        "\n",
        "\n",
        "inputs = keras.Input((4,))\n",
        "outputs = CustomDense(10)(inputs)\n",
        "\n",
        "model = keras.Model(inputs, outputs)\n",
        "config = model.get_config()\n",
        "\n",
        "new_model = keras.Model.from_config(config, custom_objects={\"CustomDense\": CustomDense})"
      ],
      "metadata": {
        "id": "HUPp_9WC9Qrp"
      },
      "execution_count": 36,
      "outputs": []
    },
    {
      "cell_type": "markdown",
      "metadata": {
        "id": "015abf7d0508"
      },
      "source": [
        "Optionally, implement the class method `from_config(cls, config)` which is used\n",
        "when recreating a layer instance given its config dictionary.\n",
        "The default implementation of `from_config` is:\n",
        "\n",
        "```python\n",
        "def from_config(cls, config):\n",
        "  return cls(**config)\n",
        "```"
      ]
    },
    {
      "cell_type": "code",
      "source": [],
      "metadata": {
        "id": "g0Nf5Xdp9Y9r"
      },
      "execution_count": null,
      "outputs": []
    },
    {
      "cell_type": "markdown",
      "metadata": {
        "id": "b4ead34e01dd"
      },
      "source": [
        "## When to use the functional API\n",
        "\n",
        "Should you use the Keras functional API to create a new model,\n",
        "or just subclass the `Model` class directly? In general, the functional API\n",
        "is higher-level, easier and safer, and has a number of\n",
        "features that subclassed models do not support.\n",
        "\n",
        "However, model subclassing provides greater flexibility when building models\n",
        "that are not easily expressible as directed acyclic graphs of layers.\n",
        "For example, you could not implement a Tree-RNN with the functional API\n",
        "and would have to subclass `Model` directly.\n",
        "\n",
        "For an in-depth look at the differences between the functional API and\n",
        "model subclassing, read\n",
        "[What are Symbolic and Imperative APIs in TensorFlow 2.0?](https://blog.tensorflow.org/2019/01/what-are-symbolic-and-imperative-apis.html).\n",
        "\n",
        "### Functional API strengths:\n",
        "\n",
        "The following properties are also true for Sequential models\n",
        "(which are also data structures), but are not true for subclassed models\n",
        "(which are Python bytecode, not data structures).\n",
        "\n",
        "#### Less verbose\n",
        "\n",
        "There is no `super(MyClass, self).__init__(...)`, no `def call(self, ...):`, etc.\n",
        "\n",
        "Compare:\n",
        "\n",
        "```python\n",
        "inputs = keras.Input(shape=(32,))\n",
        "x = layers.Dense(64, activation='relu')(inputs)\n",
        "outputs = layers.Dense(10)(x)\n",
        "mlp = keras.Model(inputs, outputs)\n",
        "```\n",
        "\n",
        "With the subclassed version:\n",
        "\n",
        "```python\n",
        "class MLP(keras.Model):\n",
        "\n",
        "  def __init__(self, **kwargs):\n",
        "    super(MLP, self).__init__(**kwargs)\n",
        "    self.dense_1 = layers.Dense(64, activation='relu')\n",
        "    self.dense_2 = layers.Dense(10)\n",
        "\n",
        "  def call(self, inputs):\n",
        "    x = self.dense_1(inputs)\n",
        "    return self.dense_2(x)\n",
        "\n",
        "# Instantiate the model.\n",
        "mlp = MLP()\n",
        "# Necessary to create the model's state.\n",
        "# The model doesn't have a state until it's called at least once.\n",
        "_ = mlp(tf.zeros((1, 32)))\n",
        "```\n",
        "\n",
        "#### Model validation while defining its connectivity graph\n",
        "\n",
        "In the functional API, the input specification (shape and dtype) is created\n",
        "in advance (using `Input`). Every time you call a layer,\n",
        "the layer checks that the specification passed to it matches its assumptions,\n",
        "and it will raise a helpful error message if not.\n",
        "\n",
        "This guarantees that any model you can build with the functional API will run.\n",
        "All debugging -- other than convergence-related debugging --\n",
        "happens statically during the model construction and not at execution time.\n",
        "This is similar to type checking in a compiler.\n",
        "\n",
        "#### A functional model is plottable and inspectable\n",
        "\n",
        "You can plot the model as a graph, and you can easily access intermediate nodes\n",
        "in this graph. For example, to extract and reuse the activations of intermediate\n",
        "layers (as seen in a previous example):\n",
        "\n",
        "```python\n",
        "features_list = [layer.output for layer in vgg19.layers]\n",
        "feat_extraction_model = keras.Model(inputs=vgg19.input, outputs=features_list)\n",
        "```\n",
        "\n",
        "#### A functional model can be serialized or cloned\n",
        "\n",
        "Because a functional model is a data structure rather than a piece of code,\n",
        "it is safely serializable and can be saved as a single file\n",
        "that allows you to recreate the exact same model\n",
        "without having access to any of the original code.\n",
        "See the [serialization & saving guide](https://www.tensorflow.org/guide/keras/save_and_serialize/).\n",
        "\n",
        "To serialize a subclassed model, it is necessary for the implementer\n",
        "to specify a `get_config()`\n",
        "and `from_config()` method at the model level.\n",
        "\n",
        "\n",
        "### Functional API weakness:\n",
        "\n",
        "#### It does not support dynamic architectures\n",
        "\n",
        "The functional API treats models as DAGs of layers.\n",
        "This is true for most deep learning architectures, but not all -- for example,\n",
        "recursive networks or Tree RNNs do not follow this assumption and cannot\n",
        "be implemented in the functional API."
      ]
    },
    {
      "cell_type": "markdown",
      "metadata": {
        "id": "72992d4ed462"
      },
      "source": [
        "## Mix-and-match API styles\n",
        "\n",
        "Choosing between the functional API or Model subclassing isn't a\n",
        "binary decision that restricts you into one category of models.\n",
        "All models in the `tf.keras` API can interact with each other, whether they're\n",
        "`Sequential` models, functional models, or subclassed models that are written\n",
        "from scratch.\n",
        "\n",
        "You can always use a functional model or `Sequential` model\n",
        "as part of a subclassed model or layer:"
      ]
    },
    {
      "cell_type": "code",
      "source": [
        "units = 32\n",
        "timesteps = 10\n",
        "input_dim = 5\n",
        "\n",
        "# Define a Functional model\n",
        "inputs = keras.Input((None, units))\n",
        "x = layers.GlobalAveragePooling1D()(inputs)\n",
        "outputs = layers.Dense(1)(x)\n",
        "model = keras.Model(inputs, outputs)\n",
        "\n",
        "\n",
        "class CustomRNN(layers.Layer):\n",
        "    def __init__(self):\n",
        "        super(CustomRNN, self).__init__()\n",
        "        self.units = units\n",
        "        self.projection_1 = layers.Dense(units=units, activation=\"tanh\")\n",
        "        self.projection_2 = layers.Dense(units=units, activation=\"tanh\")\n",
        "        # Our previously-defined Functional model\n",
        "        self.classifier = model\n",
        "\n",
        "    def call(self, inputs):\n",
        "        outputs = []\n",
        "        state = tf.zeros(shape=(inputs.shape[0], self.units))\n",
        "        for t in range(inputs.shape[1]):\n",
        "            x = inputs[:, t, :]\n",
        "            h = self.projection_1(x)\n",
        "            y = h + self.projection_2(state)\n",
        "            state = y\n",
        "            outputs.append(y)\n",
        "        features = tf.stack(outputs, axis=1)\n",
        "        print(features.shape)\n",
        "        return self.classifier(features)\n",
        "\n",
        "\n",
        "rnn_model = CustomRNN()\n",
        "_ = rnn_model(tf.zeros((1, timesteps, input_dim)))"
      ],
      "metadata": {
        "colab": {
          "base_uri": "https://localhost:8080/"
        },
        "id": "L8UhyvtA9mkQ",
        "outputId": "788bcc62-965d-4c79-c57f-cf8e74f4f7cd"
      },
      "execution_count": 37,
      "outputs": [
        {
          "output_type": "stream",
          "name": "stdout",
          "text": [
            "(1, 10, 32)\n"
          ]
        }
      ]
    },
    {
      "cell_type": "markdown",
      "metadata": {
        "id": "41f42eb2a9c0"
      },
      "source": [
        "You can use any subclassed layer or model in the functional API\n",
        "as long as it implements a `call` method that follows one of the following patterns:\n",
        "\n",
        "- `call(self, inputs, **kwargs)` --\n",
        "Where `inputs` is a tensor or a nested structure of tensors (e.g. a list of tensors),\n",
        "and where `**kwargs` are non-tensor arguments (non-inputs).\n",
        "- `call(self, inputs, training=None, **kwargs)` --\n",
        "Where `training` is a boolean indicating whether the layer should behave\n",
        "in training mode and inference mode.\n",
        "- `call(self, inputs, mask=None, **kwargs)` --\n",
        "Where `mask` is a boolean mask tensor (useful for RNNs, for instance).\n",
        "- `call(self, inputs, training=None, mask=None, **kwargs)` --\n",
        "Of course, you can have both masking and training-specific behavior at the same time.\n",
        "\n",
        "Additionally, if you implement the `get_config` method on your custom Layer or model,\n",
        "the functional models you create will still be serializable and cloneable.\n",
        "\n",
        "Here's a quick example of a custom RNN, written from scratch,\n",
        "being used in a functional model:"
      ]
    },
    {
      "cell_type": "code",
      "source": [
        "units = 32\n",
        "timesteps = 10\n",
        "input_dim = 5\n",
        "batch_size = 16\n",
        "\n",
        "\n",
        "class CustomRNN(layers.Layer):\n",
        "    def __init__(self):\n",
        "        super(CustomRNN, self).__init__()\n",
        "        self.units = units\n",
        "        self.projection_1 = layers.Dense(units=units, activation=\"tanh\")\n",
        "        self.projection_2 = layers.Dense(units=units, activation=\"tanh\")\n",
        "        self.classifier = layers.Dense(1)\n",
        "\n",
        "    def call(self, inputs):\n",
        "        outputs = []\n",
        "        state = tf.zeros(shape=(inputs.shape[0], self.units))\n",
        "        for t in range(inputs.shape[1]):\n",
        "            x = inputs[:, t, :]\n",
        "            h = self.projection_1(x)\n",
        "            y = h + self.projection_2(state)\n",
        "            state = y\n",
        "            outputs.append(y)\n",
        "        features = tf.stack(outputs, axis=1)\n",
        "        return self.classifier(features)\n",
        "\n",
        "\n",
        "# Note that you specify a static batch size for the inputs with the `batch_shape`\n",
        "# arg, because the inner computation of `CustomRNN` requires a static batch size\n",
        "# (when you create the `state` zeros tensor).\n",
        "inputs = keras.Input(batch_shape=(batch_size, timesteps, input_dim))\n",
        "x = layers.Conv1D(32, 3)(inputs)\n",
        "outputs = CustomRNN()(x)\n",
        "\n",
        "model = keras.Model(inputs, outputs)\n",
        "\n",
        "rnn_model = CustomRNN()\n",
        "_ = rnn_model(tf.zeros((1, 10, 5)))"
      ],
      "metadata": {
        "id": "b-87uIEZ9rUI"
      },
      "execution_count": 38,
      "outputs": []
    }
  ]
}