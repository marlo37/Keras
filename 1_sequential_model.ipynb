{
  "nbformat": 4,
  "nbformat_minor": 0,
  "metadata": {
    "colab": {
      "provenance": [],
      "machine_shape": "hm",
      "gpuType": "T4",
      "authorship_tag": "ABX9TyOFxxPypQUGHxWZheGGSrUh",
      "include_colab_link": true
    },
    "kernelspec": {
      "name": "python3",
      "display_name": "Python 3"
    },
    "language_info": {
      "name": "python"
    },
    "accelerator": "GPU"
  },
  "cells": [
    {
      "cell_type": "markdown",
      "metadata": {
        "id": "view-in-github",
        "colab_type": "text"
      },
      "source": [
        "<a href=\"https://colab.research.google.com/github/marlo37/Keras/blob/main/1_sequential_model.ipynb\" target=\"_parent\"><img src=\"https://colab.research.google.com/assets/colab-badge.svg\" alt=\"Open In Colab\"/></a>"
      ]
    },
    {
      "cell_type": "markdown",
      "source": [
        "##### Copyright 2020 The TensorFlow Authors."
      ],
      "metadata": {
        "id": "lbFrpyg9fxJN"
      }
    },
    {
      "cell_type": "code",
      "source": [
        "#@title Licensed under the Apache License, Version 2.0 (the \"License\");\n",
        "# you may not use this file except in compliance with the License.\n",
        "# You may obtain a copy of the License at\n",
        "#\n",
        "# https://www.apache.org/licenses/LICENSE-2.0\n",
        "#\n",
        "# Unless required by applicable law or agreed to in writing, software\n",
        "# distributed under the License is distributed on an \"AS IS\" BASIS,\n",
        "# WITHOUT WARRANTIES OR CONDITIONS OF ANY KIND, either express or implied.\n",
        "# See the License for the specific language governing permissions and\n",
        "# limitations under the License."
      ],
      "metadata": {
        "id": "vkOKfUjLfzrz"
      },
      "execution_count": null,
      "outputs": []
    },
    {
      "cell_type": "markdown",
      "source": [
        "# The Sequential model"
      ],
      "metadata": {
        "id": "2HsF_tGbf564"
      }
    },
    {
      "cell_type": "markdown",
      "metadata": {
        "id": "defbb10e8ae3"
      },
      "source": [
        "<table class=\"tfo-notebook-buttons\" align=\"left\">\n",
        "  <td>\n",
        "    <a target=\"_blank\" href=\"https://www.tensorflow.org/guide/keras/sequential_model\"><img src=\"https://www.tensorflow.org/images/tf_logo_32px.png\" />View on TensorFlow.org</a>\n",
        "  </td>\n",
        "  <td>\n",
        "    <a target=\"_blank\" href=\"https://colab.research.google.com/github/tensorflow/docs/blob/snapshot-keras/site/en/guide/keras/sequential_model.ipynb\"><img src=\"https://www.tensorflow.org/images/colab_logo_32px.png\" />Run in Google Colab</a>\n",
        "  </td>\n",
        "  <td>\n",
        "    <a target=\"_blank\" href=\"https://github.com/keras-team/keras-io/blob/master/guides/sequential_model.py\"><img src=\"https://www.tensorflow.org/images/GitHub-Mark-32px.png\" />View source on GitHub</a>\n",
        "  </td>\n",
        "  <td>\n",
        "    <a href=\"https://storage.googleapis.com/tensorflow_docs/docs/site/en/guide/keras/sequential_model.ipynb\"><img src=\"https://www.tensorflow.org/images/download_logo_32px.png\" />Download notebook</a>\n",
        "  </td>\n",
        "</table>"
      ]
    },
    {
      "cell_type": "markdown",
      "source": [
        "## Setup"
      ],
      "metadata": {
        "id": "dqtWXe74f-jo"
      }
    },
    {
      "cell_type": "code",
      "execution_count": 5,
      "metadata": {
        "id": "0EtUmqyjfvtq"
      },
      "outputs": [],
      "source": [
        "import tensorflow as tf\n",
        "from tensorflow import keras\n",
        "from tensorflow.keras import layers"
      ]
    },
    {
      "cell_type": "markdown",
      "source": [
        "## When to use a Sequential model\n",
        "\n",
        "A `Sequential` model is appropriate for **a plain stack of layers**\n",
        "where each layer has **exactly one input tensor and one output tensor**.\n",
        "\n",
        "Schematically, the following `Sequential` model:"
      ],
      "metadata": {
        "id": "4MEX5JX6gN9S"
      }
    },
    {
      "cell_type": "markdown",
      "source": [
        "`Sequential` 모델은 각 레이어에 정확히 하나의 입력 텐서와 하나의 출력 텐서가 있는 일반 레이어 스택에 적합합니다.\n",
        "\n",
        "도식적으로 다음 순차 모델:"
      ],
      "metadata": {
        "id": "R7M0q--BgUkN"
      }
    },
    {
      "cell_type": "code",
      "source": [
        "# Define Sequential model with 3 layers\n",
        "model = keras.Sequential(\n",
        "    [\n",
        "        layers.Dense(2, activation=\"relu\", name=\"layer1\"),\n",
        "        layers.Dense(3, activation=\"relu\", name=\"layer2\"),\n",
        "        layers.Dense(4, name=\"layer3\"),\n",
        "    ]\n",
        ")\n",
        "# Call model on a test input\n",
        "x = tf.ones((3, 3))\n",
        "y = model(x)\n",
        "print(y)"
      ],
      "metadata": {
        "colab": {
          "base_uri": "https://localhost:8080/"
        },
        "id": "UuA5l4KdgMGm",
        "outputId": "c49cb3c3-4712-496d-ab53-02d9cbb4e0a0"
      },
      "execution_count": 6,
      "outputs": [
        {
          "output_type": "stream",
          "name": "stdout",
          "text": [
            "tf.Tensor(\n",
            "[[-0.02983969 -0.02075223 -0.00880389 -0.05568613]\n",
            " [-0.02983969 -0.02075223 -0.00880389 -0.05568613]\n",
            " [-0.02983969 -0.02075223 -0.00880389 -0.05568613]], shape=(3, 4), dtype=float32)\n"
          ]
        }
      ]
    },
    {
      "cell_type": "markdown",
      "source": [
        "is equivalent to this function:"
      ],
      "metadata": {
        "id": "fFTkJwKogXe0"
      }
    },
    {
      "cell_type": "code",
      "source": [
        "# Create 3 layers\n",
        "layer1 = layers.Dense(2, activation=\"relu\", name=\"layer1\")\n",
        "layer2 = layers.Dense(3, activation=\"relu\", name=\"layer2\")\n",
        "layer3 = layers.Dense(4, name=\"layer3\")\n",
        "\n",
        "# Call layers on a test input\n",
        "x = tf.ones((3, 3))\n",
        "y = layer3(layer2(layer1(x)))\n",
        "print(y)"
      ],
      "metadata": {
        "colab": {
          "base_uri": "https://localhost:8080/"
        },
        "id": "oxVi9nI0g1vu",
        "outputId": "dad78574-69e7-4ba8-9e51-cfbc0438e5cb"
      },
      "execution_count": 7,
      "outputs": [
        {
          "output_type": "stream",
          "name": "stdout",
          "text": [
            "tf.Tensor(\n",
            "[[ 0.44221735 -0.4435756   0.34198636 -0.03061426]\n",
            " [ 0.44221735 -0.4435756   0.34198636 -0.03061426]\n",
            " [ 0.44221735 -0.4435756   0.34198636 -0.03061426]], shape=(3, 4), dtype=float32)\n"
          ]
        }
      ]
    },
    {
      "cell_type": "markdown",
      "source": [
        "A Sequential model is **not appropriate** when:\n",
        "\n",
        "- Your model has multiple inputs or multiple outputs\n",
        "- Any of your layers has multiple inputs or multiple outputs\n",
        "- You need to do layer sharing\n",
        "- You want non-linear topology (e.g. a residual connection, a multi-branch\n",
        "model)"
      ],
      "metadata": {
        "id": "PWXZeWkRg4OS"
      }
    },
    {
      "cell_type": "markdown",
      "source": [
        "순차 모델은 다음과 같은 경우 적합하지 않습니다.\n",
        "\n",
        "* 모델에 다중 입력 또는 다중 출력이 있습니다.\n",
        "* 모든 레이어에 다중 입력 또는 다중 출력이 있습니다.\n",
        "* 레이어 공유를 해야할 경우\n",
        "* 비선형 토폴로지를 원하는 경우(예: 잔여 연결, 다중 분기 모델)"
      ],
      "metadata": {
        "id": "bB_5ZfkBg6d2"
      }
    },
    {
      "cell_type": "markdown",
      "source": [
        "## Creating a Sequential model\n",
        "\n",
        "You can create a Sequential model by passing a list of layers to the Sequential\n",
        "constructor:"
      ],
      "metadata": {
        "id": "Kw6xZ1Blg7_L"
      }
    },
    {
      "cell_type": "code",
      "source": [
        "model = keras.Sequential(\n",
        "    [\n",
        "        layers.Dense(2, activation=\"relu\"),\n",
        "        layers.Dense(3, activation=\"relu\"),\n",
        "        layers.Dense(4),\n",
        "    ]\n",
        ")"
      ],
      "metadata": {
        "id": "HvElgFHDg9nF"
      },
      "execution_count": 8,
      "outputs": []
    },
    {
      "cell_type": "markdown",
      "source": [
        "Its layers are accessible via the `layers` attribute:"
      ],
      "metadata": {
        "id": "HRx0kftOg84c"
      }
    },
    {
      "cell_type": "code",
      "source": [
        "model.layers"
      ],
      "metadata": {
        "id": "X5WG4jMihLDX",
        "colab": {
          "base_uri": "https://localhost:8080/"
        },
        "outputId": "0fda658e-0e78-49c0-f693-22df20d99d90"
      },
      "execution_count": 9,
      "outputs": [
        {
          "output_type": "execute_result",
          "data": {
            "text/plain": [
              "[<keras.src.layers.core.dense.Dense at 0x7c50a0d96080>,\n",
              " <keras.src.layers.core.dense.Dense at 0x7c50a0474f40>,\n",
              " <keras.src.layers.core.dense.Dense at 0x7c50a0474910>]"
            ]
          },
          "metadata": {},
          "execution_count": 9
        }
      ]
    },
    {
      "cell_type": "markdown",
      "source": [
        "You can also create a Sequential model incrementally via the `add()` method:"
      ],
      "metadata": {
        "id": "LhZLTHZPhMhz"
      }
    },
    {
      "cell_type": "code",
      "source": [
        "model = keras.Sequential()\n",
        "model.add(layers.Dense(2, activation=\"relu\"))\n",
        "model.add(layers.Dense(3, activation=\"relu\"))\n",
        "model.add(layers.Dense(4))"
      ],
      "metadata": {
        "id": "Io99EmU4hNu2"
      },
      "execution_count": 10,
      "outputs": []
    },
    {
      "cell_type": "markdown",
      "source": [
        "Note that there's also a corresponding `pop()` method to remove layers:\n",
        "a Sequential model behaves very much like a list of layers."
      ],
      "metadata": {
        "id": "3oqBnS1phOtX"
      }
    },
    {
      "cell_type": "code",
      "source": [
        "model.pop()\n",
        "print(len(model.layers))  # 2"
      ],
      "metadata": {
        "id": "WoykmLtghPtB",
        "colab": {
          "base_uri": "https://localhost:8080/"
        },
        "outputId": "f467b846-d6bd-4672-b947-a90da4cb9316"
      },
      "execution_count": 11,
      "outputs": [
        {
          "output_type": "stream",
          "name": "stdout",
          "text": [
            "2\n"
          ]
        }
      ]
    },
    {
      "cell_type": "markdown",
      "source": [
        "Also note that the Sequential constructor accepts a `name` argument, just like\n",
        "any layer or model in Keras. This is useful to annotate TensorBoard graphs\n",
        "with semantically meaningful names."
      ],
      "metadata": {
        "id": "PsJPl-vyhQz0"
      }
    },
    {
      "cell_type": "markdown",
      "source": [
        "또한 `Sequential constructor`는 Keras의 `layers` 또는 `model`과 마찬가지로 `name` argument를 허용합니다. 이것은 의미적으로 의미 있는 이름으로 TensorBoard 그래프에 주석을 달 때 유용합니다."
      ],
      "metadata": {
        "id": "VSWdqLC2hS4u"
      }
    },
    {
      "cell_type": "code",
      "source": [
        "model = keras.Sequential(name=\"my_sequential\")\n",
        "model.add(layers.Dense(2, activation=\"relu\", name=\"layer1\"))\n",
        "model.add(layers.Dense(3, activation=\"relu\", name=\"layer2\"))\n",
        "model.add(layers.Dense(4, name=\"layer3\"))"
      ],
      "metadata": {
        "id": "s_Pd-K4BhUH0"
      },
      "execution_count": 19,
      "outputs": []
    },
    {
      "cell_type": "markdown",
      "source": [
        "## Specifying the input shape in advance\n",
        "\n",
        "Generally, all layers in Keras need to know the shape of their inputs\n",
        "in order to be able to create their weights. So when you create a layer like\n",
        "this, initially, it has no weights:"
      ],
      "metadata": {
        "id": "nq6Bd3vbhWQI"
      }
    },
    {
      "cell_type": "markdown",
      "source": [
        "일반적으로 Keras의 모든 레이어는 weights를 생성하기 위해 입력의 shape을 알아야 합니다. 따라서 다음과 같은 레이어를 만들 때 처음에는 weights가 없습니다."
      ],
      "metadata": {
        "id": "fGFjZuUbhXoN"
      }
    },
    {
      "cell_type": "code",
      "source": [
        "layer = layers.Dense(3)\n",
        "layer.weights  # Empty"
      ],
      "metadata": {
        "id": "04tMRkwUhYkm",
        "colab": {
          "base_uri": "https://localhost:8080/"
        },
        "outputId": "bbd7902c-a79e-4c55-e7cb-68d4c255a4ac"
      },
      "execution_count": 20,
      "outputs": [
        {
          "output_type": "execute_result",
          "data": {
            "text/plain": [
              "[]"
            ]
          },
          "metadata": {},
          "execution_count": 20
        }
      ]
    },
    {
      "cell_type": "markdown",
      "source": [
        "It creates its weights the first time it is called on an input, since the shape\n",
        "of the weights depends on the shape of the inputs:"
      ],
      "metadata": {
        "id": "MfKahTklhZvG"
      }
    },
    {
      "cell_type": "markdown",
      "source": [
        "weights의 shape은 input의 shape에 따라 달라지므로 입력시 처음 호출될 때 weight를 생성합니다."
      ],
      "metadata": {
        "id": "JtBcN2iahbtM"
      }
    },
    {
      "cell_type": "code",
      "source": [
        "# Call layer on a test input\n",
        "x = tf.ones((1, 4))\n",
        "y = layer(x)\n",
        "layer.weights  # Now it has weights, of shape (4, 3) and (3,)"
      ],
      "metadata": {
        "id": "LbW5ErWihbYL",
        "colab": {
          "base_uri": "https://localhost:8080/"
        },
        "outputId": "875e6cd8-4a98-48a7-ac1e-a6c93288646f"
      },
      "execution_count": 21,
      "outputs": [
        {
          "output_type": "execute_result",
          "data": {
            "text/plain": [
              "[<tf.Variable 'dense_6/kernel:0' shape=(4, 3) dtype=float32, numpy=\n",
              " array([[ 0.6955191 , -0.11657488,  0.85277593],\n",
              "        [ 0.0344758 ,  0.48317313, -0.4417705 ],\n",
              "        [-0.6411122 ,  0.84493196,  0.5390668 ],\n",
              "        [-0.9226045 ,  0.05692518, -0.30228597]], dtype=float32)>,\n",
              " <tf.Variable 'dense_6/bias:0' shape=(3,) dtype=float32, numpy=array([0., 0., 0.], dtype=float32)>]"
            ]
          },
          "metadata": {},
          "execution_count": 21
        }
      ]
    },
    {
      "cell_type": "markdown",
      "source": [
        "Naturally, this also applies to Sequential models. When you instantiate a\n",
        "Sequential model without an input shape, it isn't \"built\": it has no weights\n",
        "(and calling\n",
        "`model.weights` results in an error stating just this). The weights are created\n",
        "when the model first sees some input data:"
      ],
      "metadata": {
        "id": "68Gek3fqhem4"
      }
    },
    {
      "cell_type": "markdown",
      "source": [
        "당연히 이것은 `Sequential model`에도 적용됩니다. 입력 shape 없이 `Sequential model`을 인스턴스화하면 \"build\"되지 않습니다:weight가 없는 상태입니다(model.weights를 호출하면 이를 나타내는 오류가 발생합니다). `model`이 일부 입력 데이터를 처음 볼 때 weights가 생성됩니다."
      ],
      "metadata": {
        "id": "o1Fca2uHhgcf"
      }
    },
    {
      "cell_type": "code",
      "source": [
        "model = keras.Sequential(\n",
        "    [\n",
        "        layers.Dense(2, activation=\"relu\", name=\"layer1\"),\n",
        "        layers.Dense(3, activation=\"relu\", name=\"layer2\"),\n",
        "        layers.Dense(4, name=\"layer3\"),\n",
        "    ]\n",
        ")  # No weights at this stage!\n",
        "\n",
        "# At this point, you can't do this:\n",
        "# model.weights\n",
        "\n",
        "# You also can't do this:\n",
        "# print(model.summary())\n",
        "\n",
        "# Call the model on a test input\n",
        "x = tf.ones((1, 4))\n",
        "y = model(x)\n",
        "print(\"Number of weights after calling the model:\", len(model.weights))  # 6\n",
        "print(\"*\" * 60)\n",
        "print(\"type of model.weight=\", type(model.weights))\n",
        "print(\"*\" * 60)\n",
        "print(\"weights after calling the model:\", model.weights)"
      ],
      "metadata": {
        "id": "lu1esg74hf2q",
        "colab": {
          "base_uri": "https://localhost:8080/"
        },
        "outputId": "53100a5c-2e27-4a7c-a2c9-eb1d51129b17"
      },
      "execution_count": 22,
      "outputs": [
        {
          "output_type": "stream",
          "name": "stdout",
          "text": [
            "Number of weights after calling the model: 6\n",
            "************************************************************\n",
            "type of model.weight= <class 'list'>\n",
            "************************************************************\n",
            "weights after calling the model: [<tf.Variable 'layer1/kernel:0' shape=(4, 2) dtype=float32, numpy=\n",
            "array([[ 0.13822079, -0.39574122],\n",
            "       [ 0.49162126, -0.10602736],\n",
            "       [-0.06269574, -0.708946  ],\n",
            "       [ 0.14356399, -0.11685729]], dtype=float32)>, <tf.Variable 'layer1/bias:0' shape=(2,) dtype=float32, numpy=array([0., 0.], dtype=float32)>, <tf.Variable 'layer2/kernel:0' shape=(2, 3) dtype=float32, numpy=\n",
            "array([[ 0.17167497, -0.84174657,  0.13665068],\n",
            "       [-0.43417853, -0.3443212 , -0.5301142 ]], dtype=float32)>, <tf.Variable 'layer2/bias:0' shape=(3,) dtype=float32, numpy=array([0., 0., 0.], dtype=float32)>, <tf.Variable 'layer3/kernel:0' shape=(3, 4) dtype=float32, numpy=\n",
            "array([[-0.25497323,  0.28135383,  0.53746986, -0.53320014],\n",
            "       [-0.2136311 , -0.05626541, -0.7761154 , -0.6727068 ],\n",
            "       [ 0.7717416 ,  0.26784992, -0.40624708,  0.9059491 ]],\n",
            "      dtype=float32)>, <tf.Variable 'layer3/bias:0' shape=(4,) dtype=float32, numpy=array([0., 0., 0., 0.], dtype=float32)>]\n"
          ]
        }
      ]
    },
    {
      "cell_type": "code",
      "source": [
        "layer1 = model.get_layer(name=\"layer1\")"
      ],
      "metadata": {
        "id": "u0_QF7zZhleV"
      },
      "execution_count": 23,
      "outputs": []
    },
    {
      "cell_type": "code",
      "source": [
        "print(\"layer1.input_shape=\", layer1.input_shape)\n",
        "\n",
        "print(\"layer1.output_shape=\", layer1.output_shape)"
      ],
      "metadata": {
        "id": "yCM0EjW4hmof",
        "colab": {
          "base_uri": "https://localhost:8080/"
        },
        "outputId": "56d185d9-55cc-4009-db82-af483665f853"
      },
      "execution_count": 24,
      "outputs": [
        {
          "output_type": "stream",
          "name": "stdout",
          "text": [
            "layer1.input_shape= (1, 4)\n",
            "layer1.output_shape= (1, 2)\n"
          ]
        }
      ]
    },
    {
      "cell_type": "code",
      "source": [
        "weights_layer1 = layer1.get_weights() # Weights values as a list of NumPy arrays.\n",
        "print(\"type of weights_layer1=\", type(weights_layer1))\n",
        "print(weights_layer1)"
      ],
      "metadata": {
        "id": "y03jx7L-hnwk",
        "colab": {
          "base_uri": "https://localhost:8080/"
        },
        "outputId": "75ec37ea-2300-467b-e425-71b19f344261"
      },
      "execution_count": 25,
      "outputs": [
        {
          "output_type": "stream",
          "name": "stdout",
          "text": [
            "type of weights_layer1= <class 'list'>\n",
            "[array([[ 0.13822079, -0.39574122],\n",
            "       [ 0.49162126, -0.10602736],\n",
            "       [-0.06269574, -0.708946  ],\n",
            "       [ 0.14356399, -0.11685729]], dtype=float32), array([0., 0.], dtype=float32)]\n"
          ]
        }
      ]
    },
    {
      "cell_type": "markdown",
      "source": [
        "Once a model is \"built\", you can call its `summary()` method to display its\n",
        "contents:"
      ],
      "metadata": {
        "id": "5CC9iYjaho7o"
      }
    },
    {
      "cell_type": "code",
      "source": [
        "model.summary()"
      ],
      "metadata": {
        "id": "Yd5jb-s7hqIK",
        "colab": {
          "base_uri": "https://localhost:8080/"
        },
        "outputId": "bc62298b-6491-4235-c793-af4adb194898"
      },
      "execution_count": 26,
      "outputs": [
        {
          "output_type": "stream",
          "name": "stdout",
          "text": [
            "Model: \"sequential_4\"\n",
            "_________________________________________________________________\n",
            " Layer (type)                Output Shape              Param #   \n",
            "=================================================================\n",
            " layer1 (Dense)              (1, 2)                    10        \n",
            "                                                                 \n",
            " layer2 (Dense)              (1, 3)                    9         \n",
            "                                                                 \n",
            " layer3 (Dense)              (1, 4)                    16        \n",
            "                                                                 \n",
            "=================================================================\n",
            "Total params: 35 (140.00 Byte)\n",
            "Trainable params: 35 (140.00 Byte)\n",
            "Non-trainable params: 0 (0.00 Byte)\n",
            "_________________________________________________________________\n"
          ]
        }
      ]
    },
    {
      "cell_type": "markdown",
      "source": [
        "However, it can be very useful when building a Sequential model incrementally\n",
        "to be able to display the summary of the model so far, including the current\n",
        "output shape. In this case, you should start your model by passing an `Input`\n",
        "object to your model, so that it knows its input shape from the start:"
      ],
      "metadata": {
        "id": "sCGOvh24hrjD"
      }
    },
    {
      "cell_type": "markdown",
      "source": [
        "그러나 Sequential 모델을 점진적으로 구축할 때 현재 출력 shape를 포함하여 지금까지 모델의 summary을 표시할 수 있으므로 매우 유용할 수 있습니다. 이 경우 처음부터 입력 shape을 알 수 있도록 입력 객체를 모델에 전달하여 모델을 시작해야 합니다."
      ],
      "metadata": {
        "id": "XeEXYztrhtFs"
      }
    },
    {
      "cell_type": "code",
      "source": [
        "model = keras.Sequential()\n",
        "model.add(keras.Input(shape=(4,)))\n",
        "model.add(layers.Dense(2, activation=\"relu\"))\n",
        "\n",
        "model.summary()"
      ],
      "metadata": {
        "id": "Gl22MiMlhuEY",
        "colab": {
          "base_uri": "https://localhost:8080/"
        },
        "outputId": "33e311a2-20de-4414-bc8b-74a280437442"
      },
      "execution_count": 27,
      "outputs": [
        {
          "output_type": "stream",
          "name": "stdout",
          "text": [
            "Model: \"sequential_5\"\n",
            "_________________________________________________________________\n",
            " Layer (type)                Output Shape              Param #   \n",
            "=================================================================\n",
            " dense_7 (Dense)             (None, 2)                 10        \n",
            "                                                                 \n",
            "=================================================================\n",
            "Total params: 10 (40.00 Byte)\n",
            "Trainable params: 10 (40.00 Byte)\n",
            "Non-trainable params: 0 (0.00 Byte)\n",
            "_________________________________________________________________\n"
          ]
        }
      ]
    },
    {
      "cell_type": "markdown",
      "source": [
        "keras.Input() is used to instantiate a Keras tensor.\n",
        "A Keras tensor is a symbolic tensor-like object,\n",
        "which we augment with certain attributes that allow us to build a Keras model\n",
        "just by knowing the inputs and outputs of the model."
      ],
      "metadata": {
        "id": "X5sikUOzhvdy"
      }
    },
    {
      "cell_type": "markdown",
      "source": [
        "Note that the `Input` object is not displayed as part of `model.layers`, since\n",
        "it isn't a layer:"
      ],
      "metadata": {
        "id": "4ioXUjhIhwzg"
      }
    },
    {
      "cell_type": "code",
      "source": [
        "model.layers"
      ],
      "metadata": {
        "id": "Y1NbqNwPhxuT",
        "colab": {
          "base_uri": "https://localhost:8080/"
        },
        "outputId": "ba8924b7-2222-438b-d55d-e299b46b6b98"
      },
      "execution_count": 28,
      "outputs": [
        {
          "output_type": "execute_result",
          "data": {
            "text/plain": [
              "[<keras.src.layers.core.dense.Dense at 0x7c50a0d95f60>]"
            ]
          },
          "metadata": {},
          "execution_count": 28
        }
      ]
    },
    {
      "cell_type": "markdown",
      "source": [
        "A simple alternative is to just pass an `input_shape` argument to your first\n",
        "layer:"
      ],
      "metadata": {
        "id": "X7rfeYgLhytQ"
      }
    },
    {
      "cell_type": "code",
      "source": [
        "model = keras.Sequential()\n",
        "model.add(layers.Dense(2, activation=\"relu\", input_shape=(4,)))\n",
        "\n",
        "model.summary()"
      ],
      "metadata": {
        "id": "tqIyD0xdhz7k",
        "colab": {
          "base_uri": "https://localhost:8080/"
        },
        "outputId": "bfcdae0c-e586-4d73-c5cf-23159c68a538"
      },
      "execution_count": 29,
      "outputs": [
        {
          "output_type": "stream",
          "name": "stdout",
          "text": [
            "Model: \"sequential_6\"\n",
            "_________________________________________________________________\n",
            " Layer (type)                Output Shape              Param #   \n",
            "=================================================================\n",
            " dense_8 (Dense)             (None, 2)                 10        \n",
            "                                                                 \n",
            "=================================================================\n",
            "Total params: 10 (40.00 Byte)\n",
            "Trainable params: 10 (40.00 Byte)\n",
            "Non-trainable params: 0 (0.00 Byte)\n",
            "_________________________________________________________________\n"
          ]
        }
      ]
    },
    {
      "cell_type": "markdown",
      "source": [
        "Models built with a predefined input shape like this always have weights (even\n",
        "before seeing any data) and always have a defined output shape.\n",
        "\n",
        "In general, it's a recommended best practice to always specify the input shape\n",
        "of a Sequential model in advance if you know what it is."
      ],
      "metadata": {
        "id": "1BrLoqRMh1Us"
      }
    },
    {
      "cell_type": "markdown",
      "source": [
        "이와 같이 미리 정의된 입력 shape으로 구축된 모델에는 항상 weights가 있고(데이터를 보기 전에도) 항상 정의된 출력 shape이 있습니다.\n",
        "\n",
        "일반적으로 Sequential 모델이 무엇인지 알고 있다면 항상 사전에 Sequential 모델의 입력 shape를 지정하는 것이 권장되는 모범 사례입니다."
      ],
      "metadata": {
        "id": "g-Ag4vRSh4D0"
      }
    },
    {
      "cell_type": "markdown",
      "source": [
        "## A common debugging workflow: `add()` + `summary()`\n",
        "\n",
        "When building a new Sequential architecture, it's useful to incrementally stack\n",
        "layers with `add()` and frequently print model summaries. For instance, this\n",
        "enables you to monitor how a stack of `Conv2D` and `MaxPooling2D` layers is\n",
        "downsampling image feature maps:"
      ],
      "metadata": {
        "id": "yB3P8qIqi4Hb"
      }
    },
    {
      "cell_type": "markdown",
      "source": [
        "새로운 Sequential 아키텍처를 구축할 때 `add()`를 사용하여 레이어를 점진적으로 쌓고 모델 `summary`을 자주 인쇄하는 것이 유용합니다. 예를 들어 Conv2D 및 MaxPooling2D 레이어 스택이 이미지 `feature map`을 downsampling하는 방법을 모니터링할 수 있습니다."
      ],
      "metadata": {
        "id": "a1WDKLm6i5jM"
      }
    },
    {
      "cell_type": "code",
      "source": [
        "model = keras.Sequential()\n",
        "model.add(keras.Input(shape=(250, 250, 3)))  # 250x250 RGB images\n",
        "model.add(layers.Conv2D(32, 5, strides=2, activation=\"relu\"))\n",
        "model.summary()"
      ],
      "metadata": {
        "colab": {
          "base_uri": "https://localhost:8080/"
        },
        "id": "VAvC6nUNi8Zf",
        "outputId": "bddc3964-c930-413c-afb9-7e6ece686d3d"
      },
      "execution_count": 30,
      "outputs": [
        {
          "output_type": "stream",
          "name": "stdout",
          "text": [
            "Model: \"sequential_7\"\n",
            "_________________________________________________________________\n",
            " Layer (type)                Output Shape              Param #   \n",
            "=================================================================\n",
            " conv2d (Conv2D)             (None, 123, 123, 32)      2432      \n",
            "                                                                 \n",
            "=================================================================\n",
            "Total params: 2432 (9.50 KB)\n",
            "Trainable params: 2432 (9.50 KB)\n",
            "Non-trainable params: 0 (0.00 Byte)\n",
            "_________________________________________________________________\n"
          ]
        }
      ]
    },
    {
      "cell_type": "code",
      "source": [
        "model.add(layers.Conv2D(32, 3, activation=\"relu\"))\n",
        "model.summary()"
      ],
      "metadata": {
        "colab": {
          "base_uri": "https://localhost:8080/"
        },
        "id": "GUNw-LtAi_Pt",
        "outputId": "d2c1a44f-951f-40ba-a9e6-d0edfcc4faf0"
      },
      "execution_count": 31,
      "outputs": [
        {
          "output_type": "stream",
          "name": "stdout",
          "text": [
            "Model: \"sequential_7\"\n",
            "_________________________________________________________________\n",
            " Layer (type)                Output Shape              Param #   \n",
            "=================================================================\n",
            " conv2d (Conv2D)             (None, 123, 123, 32)      2432      \n",
            "                                                                 \n",
            " conv2d_1 (Conv2D)           (None, 121, 121, 32)      9248      \n",
            "                                                                 \n",
            "=================================================================\n",
            "Total params: 11680 (45.62 KB)\n",
            "Trainable params: 11680 (45.62 KB)\n",
            "Non-trainable params: 0 (0.00 Byte)\n",
            "_________________________________________________________________\n"
          ]
        }
      ]
    },
    {
      "cell_type": "code",
      "source": [
        "model.add(layers.MaxPooling2D(3))\n",
        "\n",
        "# Can you guess what the current output shape is at this point? Probably not.\n",
        "# Let's just print it:\n",
        "model.summary()"
      ],
      "metadata": {
        "colab": {
          "base_uri": "https://localhost:8080/"
        },
        "id": "Ij3RHOzxjB-6",
        "outputId": "ccaab6de-e6dd-4894-ba9e-11a1721c0987"
      },
      "execution_count": 32,
      "outputs": [
        {
          "output_type": "stream",
          "name": "stdout",
          "text": [
            "Model: \"sequential_7\"\n",
            "_________________________________________________________________\n",
            " Layer (type)                Output Shape              Param #   \n",
            "=================================================================\n",
            " conv2d (Conv2D)             (None, 123, 123, 32)      2432      \n",
            "                                                                 \n",
            " conv2d_1 (Conv2D)           (None, 121, 121, 32)      9248      \n",
            "                                                                 \n",
            " max_pooling2d (MaxPooling2  (None, 40, 40, 32)        0         \n",
            " D)                                                              \n",
            "                                                                 \n",
            "=================================================================\n",
            "Total params: 11680 (45.62 KB)\n",
            "Trainable params: 11680 (45.62 KB)\n",
            "Non-trainable params: 0 (0.00 Byte)\n",
            "_________________________________________________________________\n"
          ]
        }
      ]
    },
    {
      "cell_type": "code",
      "source": [
        "# The answer was: (40, 40, 32), so we can keep downsampling...\n",
        "\n",
        "model.add(layers.Conv2D(32, 3, activation=\"relu\"))\n",
        "model.add(layers.Conv2D(32, 3, activation=\"relu\"))\n",
        "model.add(layers.MaxPooling2D(3))\n",
        "model.add(layers.Conv2D(32, 3, activation=\"relu\"))\n",
        "model.add(layers.Conv2D(32, 3, activation=\"relu\"))\n",
        "model.add(layers.MaxPooling2D(2))\n",
        "\n",
        "# And now?\n",
        "model.summary()"
      ],
      "metadata": {
        "colab": {
          "base_uri": "https://localhost:8080/"
        },
        "id": "ybWS-AWljIoQ",
        "outputId": "46ac93e2-251b-4c48-fe2d-679f2fbdd519"
      },
      "execution_count": 33,
      "outputs": [
        {
          "output_type": "stream",
          "name": "stdout",
          "text": [
            "Model: \"sequential_7\"\n",
            "_________________________________________________________________\n",
            " Layer (type)                Output Shape              Param #   \n",
            "=================================================================\n",
            " conv2d (Conv2D)             (None, 123, 123, 32)      2432      \n",
            "                                                                 \n",
            " conv2d_1 (Conv2D)           (None, 121, 121, 32)      9248      \n",
            "                                                                 \n",
            " max_pooling2d (MaxPooling2  (None, 40, 40, 32)        0         \n",
            " D)                                                              \n",
            "                                                                 \n",
            " conv2d_2 (Conv2D)           (None, 38, 38, 32)        9248      \n",
            "                                                                 \n",
            " conv2d_3 (Conv2D)           (None, 36, 36, 32)        9248      \n",
            "                                                                 \n",
            " max_pooling2d_1 (MaxPoolin  (None, 12, 12, 32)        0         \n",
            " g2D)                                                            \n",
            "                                                                 \n",
            " conv2d_4 (Conv2D)           (None, 10, 10, 32)        9248      \n",
            "                                                                 \n",
            " conv2d_5 (Conv2D)           (None, 8, 8, 32)          9248      \n",
            "                                                                 \n",
            " max_pooling2d_2 (MaxPoolin  (None, 4, 4, 32)          0         \n",
            " g2D)                                                            \n",
            "                                                                 \n",
            "=================================================================\n",
            "Total params: 48672 (190.12 KB)\n",
            "Trainable params: 48672 (190.12 KB)\n",
            "Non-trainable params: 0 (0.00 Byte)\n",
            "_________________________________________________________________\n"
          ]
        }
      ]
    },
    {
      "cell_type": "code",
      "source": [
        "# Now that we have 4x4 feature maps, time to apply global max pooling.\n",
        "model.add(layers.GlobalMaxPooling2D())\n",
        "\n",
        "# Finally, we add a classification layer.\n",
        "model.add(layers.Dense(10))"
      ],
      "metadata": {
        "id": "EO-8XBH5jLJY"
      },
      "execution_count": 34,
      "outputs": []
    },
    {
      "cell_type": "code",
      "source": [
        "model.summary()"
      ],
      "metadata": {
        "colab": {
          "base_uri": "https://localhost:8080/"
        },
        "id": "gvxv8Oh9jM2Y",
        "outputId": "c3669a1a-e8c8-40c5-aef7-681cea94cff6"
      },
      "execution_count": 35,
      "outputs": [
        {
          "output_type": "stream",
          "name": "stdout",
          "text": [
            "Model: \"sequential_7\"\n",
            "_________________________________________________________________\n",
            " Layer (type)                Output Shape              Param #   \n",
            "=================================================================\n",
            " conv2d (Conv2D)             (None, 123, 123, 32)      2432      \n",
            "                                                                 \n",
            " conv2d_1 (Conv2D)           (None, 121, 121, 32)      9248      \n",
            "                                                                 \n",
            " max_pooling2d (MaxPooling2  (None, 40, 40, 32)        0         \n",
            " D)                                                              \n",
            "                                                                 \n",
            " conv2d_2 (Conv2D)           (None, 38, 38, 32)        9248      \n",
            "                                                                 \n",
            " conv2d_3 (Conv2D)           (None, 36, 36, 32)        9248      \n",
            "                                                                 \n",
            " max_pooling2d_1 (MaxPoolin  (None, 12, 12, 32)        0         \n",
            " g2D)                                                            \n",
            "                                                                 \n",
            " conv2d_4 (Conv2D)           (None, 10, 10, 32)        9248      \n",
            "                                                                 \n",
            " conv2d_5 (Conv2D)           (None, 8, 8, 32)          9248      \n",
            "                                                                 \n",
            " max_pooling2d_2 (MaxPoolin  (None, 4, 4, 32)          0         \n",
            " g2D)                                                            \n",
            "                                                                 \n",
            " global_max_pooling2d (Glob  (None, 32)                0         \n",
            " alMaxPooling2D)                                                 \n",
            "                                                                 \n",
            " dense_9 (Dense)             (None, 10)                330       \n",
            "                                                                 \n",
            "=================================================================\n",
            "Total params: 49002 (191.41 KB)\n",
            "Trainable params: 49002 (191.41 KB)\n",
            "Non-trainable params: 0 (0.00 Byte)\n",
            "_________________________________________________________________\n"
          ]
        }
      ]
    },
    {
      "cell_type": "markdown",
      "source": [
        "Very practical, right?"
      ],
      "metadata": {
        "id": "pim3X5n6i6bk"
      }
    },
    {
      "cell_type": "markdown",
      "source": [
        "## What to do once you have a model\n",
        "\n",
        "Once your model architecture is ready, you will want to:\n",
        "\n",
        "- Train your model, evaluate it, and run inference. See our\n",
        "[guide to training & evaluation with the built-in loops](\n",
        "https://www.tensorflow.org/guide/keras/train_and_evaluate/)\n",
        "- Save your model to disk and restore it. See our\n",
        "[guide to serialization & saving](https://www.tensorflow.org/guide/keras/save_and_serialize/).\n",
        "- Speed up model training by leveraging multiple GPUs. See our\n",
        "[guide to multi-GPU and distributed training](https://keras.io/guides/distributed_training/)."
      ],
      "metadata": {
        "id": "5zDHyMFrjRu2"
      }
    },
    {
      "cell_type": "markdown",
      "source": [
        "## Feature extraction with a Sequential model\n",
        "\n",
        "Once a Sequential model has been built, it behaves like a [Functional API\n",
        "model](https://www.tensorflow.org/guide/keras/functional/). This means that every layer has an `input`\n",
        "and `output` attribute. These attributes can be used to do neat things, like\n",
        "quickly\n",
        "creating a model that extracts the outputs of all intermediate layers in a\n",
        "Sequential model:"
      ],
      "metadata": {
        "id": "KeaNRIy8jTR4"
      }
    },
    {
      "cell_type": "markdown",
      "source": [
        "Sequential 모델이 빌드되면 `Functional API` 모델처럼 작동합니다. 즉, 모든 레이어에는 입력 및 출력 속성이 있습니다. 이러한 속성은 Sequential 모델에서 모든 중간 layers의 출력을 추출하는 모델을 빠르게 생성하는 것과 같은 깔끔한 작업을 수행하는 데 사용할 수 있습니다."
      ],
      "metadata": {
        "id": "eWRxEeHhjUgS"
      }
    },
    {
      "cell_type": "code",
      "source": [
        "initial_model = keras.Sequential(\n",
        "    [\n",
        "        keras.Input(shape=(250, 250, 3)),\n",
        "        layers.Conv2D(32, 5, strides=2, activation=\"relu\"),\n",
        "        layers.Conv2D(32, 3, activation=\"relu\"),\n",
        "        layers.Conv2D(32, 3, activation=\"relu\"),\n",
        "    ]\n",
        ")\n",
        "# Functional API\n",
        "feature_extractor = keras.Model(\n",
        "    inputs=initial_model.inputs,\n",
        "    outputs=[layer.output for layer in initial_model.layers],\n",
        ")\n",
        "\n",
        "# Call feature extractor on test input.\n",
        "x = tf.ones((1, 250, 250, 3))\n",
        "features = feature_extractor(x)\n",
        "print(\"type of features=\", type(features))\n",
        "print(\"features=\", features)"
      ],
      "metadata": {
        "colab": {
          "base_uri": "https://localhost:8080/"
        },
        "id": "oRFeVVwzjVx9",
        "outputId": "facb1bcb-99e7-4d91-d048-cf71f31bab31"
      },
      "execution_count": 36,
      "outputs": [
        {
          "output_type": "stream",
          "name": "stdout",
          "text": [
            "type of features= <class 'list'>\n",
            "features= [<tf.Tensor: shape=(1, 123, 123, 32), dtype=float32, numpy=\n",
            "array([[[[0.        , 0.6952353 , 0.64712805, ..., 0.12307401,\n",
            "          0.        , 0.10430153],\n",
            "         [0.        , 0.6952353 , 0.64712805, ..., 0.12307401,\n",
            "          0.        , 0.10430153],\n",
            "         [0.        , 0.6952353 , 0.64712805, ..., 0.12307401,\n",
            "          0.        , 0.10430153],\n",
            "         ...,\n",
            "         [0.        , 0.6952353 , 0.64712805, ..., 0.12307401,\n",
            "          0.        , 0.10430153],\n",
            "         [0.        , 0.6952353 , 0.64712805, ..., 0.12307401,\n",
            "          0.        , 0.10430153],\n",
            "         [0.        , 0.6952353 , 0.64712805, ..., 0.12307401,\n",
            "          0.        , 0.10430153]],\n",
            "\n",
            "        [[0.        , 0.6952353 , 0.64712805, ..., 0.12307401,\n",
            "          0.        , 0.10430153],\n",
            "         [0.        , 0.6952353 , 0.64712805, ..., 0.12307401,\n",
            "          0.        , 0.10430153],\n",
            "         [0.        , 0.6952353 , 0.64712805, ..., 0.12307401,\n",
            "          0.        , 0.10430153],\n",
            "         ...,\n",
            "         [0.        , 0.6952353 , 0.64712805, ..., 0.12307401,\n",
            "          0.        , 0.10430153],\n",
            "         [0.        , 0.6952353 , 0.64712805, ..., 0.12307401,\n",
            "          0.        , 0.10430153],\n",
            "         [0.        , 0.6952353 , 0.64712805, ..., 0.12307401,\n",
            "          0.        , 0.10430153]],\n",
            "\n",
            "        [[0.        , 0.6952353 , 0.64712805, ..., 0.12307401,\n",
            "          0.        , 0.10430153],\n",
            "         [0.        , 0.6952353 , 0.64712805, ..., 0.12307401,\n",
            "          0.        , 0.10430153],\n",
            "         [0.        , 0.6952353 , 0.64712805, ..., 0.12307401,\n",
            "          0.        , 0.10430153],\n",
            "         ...,\n",
            "         [0.        , 0.6952353 , 0.64712805, ..., 0.12307401,\n",
            "          0.        , 0.10430153],\n",
            "         [0.        , 0.6952353 , 0.64712805, ..., 0.12307401,\n",
            "          0.        , 0.10430153],\n",
            "         [0.        , 0.6952353 , 0.64712805, ..., 0.12307401,\n",
            "          0.        , 0.10430153]],\n",
            "\n",
            "        ...,\n",
            "\n",
            "        [[0.        , 0.6952353 , 0.64712805, ..., 0.12307401,\n",
            "          0.        , 0.10430153],\n",
            "         [0.        , 0.6952353 , 0.64712805, ..., 0.12307401,\n",
            "          0.        , 0.10430153],\n",
            "         [0.        , 0.6952353 , 0.64712805, ..., 0.12307401,\n",
            "          0.        , 0.10430153],\n",
            "         ...,\n",
            "         [0.        , 0.6952353 , 0.64712805, ..., 0.12307401,\n",
            "          0.        , 0.10430153],\n",
            "         [0.        , 0.6952353 , 0.64712805, ..., 0.12307401,\n",
            "          0.        , 0.10430153],\n",
            "         [0.        , 0.6952353 , 0.64712805, ..., 0.12307401,\n",
            "          0.        , 0.10430153]],\n",
            "\n",
            "        [[0.        , 0.6952353 , 0.64712805, ..., 0.12307401,\n",
            "          0.        , 0.10430153],\n",
            "         [0.        , 0.6952353 , 0.64712805, ..., 0.12307401,\n",
            "          0.        , 0.10430153],\n",
            "         [0.        , 0.6952353 , 0.64712805, ..., 0.12307401,\n",
            "          0.        , 0.10430153],\n",
            "         ...,\n",
            "         [0.        , 0.6952353 , 0.64712805, ..., 0.12307401,\n",
            "          0.        , 0.10430153],\n",
            "         [0.        , 0.6952353 , 0.64712805, ..., 0.12307401,\n",
            "          0.        , 0.10430153],\n",
            "         [0.        , 0.6952353 , 0.64712805, ..., 0.12307401,\n",
            "          0.        , 0.10430153]],\n",
            "\n",
            "        [[0.        , 0.6952353 , 0.64712805, ..., 0.12307401,\n",
            "          0.        , 0.10430153],\n",
            "         [0.        , 0.6952353 , 0.64712805, ..., 0.12307401,\n",
            "          0.        , 0.10430153],\n",
            "         [0.        , 0.6952353 , 0.64712805, ..., 0.12307401,\n",
            "          0.        , 0.10430153],\n",
            "         ...,\n",
            "         [0.        , 0.6952353 , 0.64712805, ..., 0.12307401,\n",
            "          0.        , 0.10430153],\n",
            "         [0.        , 0.6952353 , 0.64712805, ..., 0.12307401,\n",
            "          0.        , 0.10430153],\n",
            "         [0.        , 0.6952353 , 0.64712805, ..., 0.12307401,\n",
            "          0.        , 0.10430153]]]], dtype=float32)>, <tf.Tensor: shape=(1, 121, 121, 32), dtype=float32, numpy=\n",
            "array([[[[0.        , 0.        , 0.        , ..., 0.12032127,\n",
            "          0.        , 0.        ],\n",
            "         [0.        , 0.        , 0.        , ..., 0.12032127,\n",
            "          0.        , 0.        ],\n",
            "         [0.        , 0.        , 0.        , ..., 0.12032127,\n",
            "          0.        , 0.        ],\n",
            "         ...,\n",
            "         [0.        , 0.        , 0.        , ..., 0.12032127,\n",
            "          0.        , 0.        ],\n",
            "         [0.        , 0.        , 0.        , ..., 0.12032127,\n",
            "          0.        , 0.        ],\n",
            "         [0.        , 0.        , 0.        , ..., 0.12032127,\n",
            "          0.        , 0.        ]],\n",
            "\n",
            "        [[0.        , 0.        , 0.        , ..., 0.12032127,\n",
            "          0.        , 0.        ],\n",
            "         [0.        , 0.        , 0.        , ..., 0.12032127,\n",
            "          0.        , 0.        ],\n",
            "         [0.        , 0.        , 0.        , ..., 0.12032127,\n",
            "          0.        , 0.        ],\n",
            "         ...,\n",
            "         [0.        , 0.        , 0.        , ..., 0.12032127,\n",
            "          0.        , 0.        ],\n",
            "         [0.        , 0.        , 0.        , ..., 0.12032127,\n",
            "          0.        , 0.        ],\n",
            "         [0.        , 0.        , 0.        , ..., 0.12032127,\n",
            "          0.        , 0.        ]],\n",
            "\n",
            "        [[0.        , 0.        , 0.        , ..., 0.12032127,\n",
            "          0.        , 0.        ],\n",
            "         [0.        , 0.        , 0.        , ..., 0.12032127,\n",
            "          0.        , 0.        ],\n",
            "         [0.        , 0.        , 0.        , ..., 0.12032127,\n",
            "          0.        , 0.        ],\n",
            "         ...,\n",
            "         [0.        , 0.        , 0.        , ..., 0.12032127,\n",
            "          0.        , 0.        ],\n",
            "         [0.        , 0.        , 0.        , ..., 0.12032127,\n",
            "          0.        , 0.        ],\n",
            "         [0.        , 0.        , 0.        , ..., 0.12032127,\n",
            "          0.        , 0.        ]],\n",
            "\n",
            "        ...,\n",
            "\n",
            "        [[0.        , 0.        , 0.        , ..., 0.12032127,\n",
            "          0.        , 0.        ],\n",
            "         [0.        , 0.        , 0.        , ..., 0.12032127,\n",
            "          0.        , 0.        ],\n",
            "         [0.        , 0.        , 0.        , ..., 0.12032127,\n",
            "          0.        , 0.        ],\n",
            "         ...,\n",
            "         [0.        , 0.        , 0.        , ..., 0.12032127,\n",
            "          0.        , 0.        ],\n",
            "         [0.        , 0.        , 0.        , ..., 0.12032127,\n",
            "          0.        , 0.        ],\n",
            "         [0.        , 0.        , 0.        , ..., 0.12032127,\n",
            "          0.        , 0.        ]],\n",
            "\n",
            "        [[0.        , 0.        , 0.        , ..., 0.12032127,\n",
            "          0.        , 0.        ],\n",
            "         [0.        , 0.        , 0.        , ..., 0.12032127,\n",
            "          0.        , 0.        ],\n",
            "         [0.        , 0.        , 0.        , ..., 0.12032127,\n",
            "          0.        , 0.        ],\n",
            "         ...,\n",
            "         [0.        , 0.        , 0.        , ..., 0.12032127,\n",
            "          0.        , 0.        ],\n",
            "         [0.        , 0.        , 0.        , ..., 0.12032127,\n",
            "          0.        , 0.        ],\n",
            "         [0.        , 0.        , 0.        , ..., 0.12032127,\n",
            "          0.        , 0.        ]],\n",
            "\n",
            "        [[0.        , 0.        , 0.        , ..., 0.12032127,\n",
            "          0.        , 0.        ],\n",
            "         [0.        , 0.        , 0.        , ..., 0.12032127,\n",
            "          0.        , 0.        ],\n",
            "         [0.        , 0.        , 0.        , ..., 0.12032127,\n",
            "          0.        , 0.        ],\n",
            "         ...,\n",
            "         [0.        , 0.        , 0.        , ..., 0.12032127,\n",
            "          0.        , 0.        ],\n",
            "         [0.        , 0.        , 0.        , ..., 0.12032127,\n",
            "          0.        , 0.        ],\n",
            "         [0.        , 0.        , 0.        , ..., 0.12032127,\n",
            "          0.        , 0.        ]]]], dtype=float32)>, <tf.Tensor: shape=(1, 119, 119, 32), dtype=float32, numpy=\n",
            "array([[[[0.07100823, 0.2493987 , 0.26835755, ..., 0.        ,\n",
            "          0.        , 0.        ],\n",
            "         [0.07100823, 0.2493987 , 0.26835755, ..., 0.        ,\n",
            "          0.        , 0.        ],\n",
            "         [0.07100823, 0.2493987 , 0.26835755, ..., 0.        ,\n",
            "          0.        , 0.        ],\n",
            "         ...,\n",
            "         [0.07100823, 0.2493987 , 0.26835755, ..., 0.        ,\n",
            "          0.        , 0.        ],\n",
            "         [0.07100823, 0.2493987 , 0.26835755, ..., 0.        ,\n",
            "          0.        , 0.        ],\n",
            "         [0.07100823, 0.2493987 , 0.26835755, ..., 0.        ,\n",
            "          0.        , 0.        ]],\n",
            "\n",
            "        [[0.07100823, 0.2493987 , 0.26835755, ..., 0.        ,\n",
            "          0.        , 0.        ],\n",
            "         [0.07100823, 0.2493987 , 0.26835755, ..., 0.        ,\n",
            "          0.        , 0.        ],\n",
            "         [0.07100823, 0.2493987 , 0.26835755, ..., 0.        ,\n",
            "          0.        , 0.        ],\n",
            "         ...,\n",
            "         [0.07100823, 0.2493987 , 0.26835755, ..., 0.        ,\n",
            "          0.        , 0.        ],\n",
            "         [0.07100823, 0.2493987 , 0.26835755, ..., 0.        ,\n",
            "          0.        , 0.        ],\n",
            "         [0.07100823, 0.2493987 , 0.26835755, ..., 0.        ,\n",
            "          0.        , 0.        ]],\n",
            "\n",
            "        [[0.07100823, 0.2493987 , 0.26835755, ..., 0.        ,\n",
            "          0.        , 0.        ],\n",
            "         [0.07100823, 0.2493987 , 0.26835755, ..., 0.        ,\n",
            "          0.        , 0.        ],\n",
            "         [0.07100823, 0.2493987 , 0.26835755, ..., 0.        ,\n",
            "          0.        , 0.        ],\n",
            "         ...,\n",
            "         [0.07100823, 0.2493987 , 0.26835755, ..., 0.        ,\n",
            "          0.        , 0.        ],\n",
            "         [0.07100823, 0.2493987 , 0.26835755, ..., 0.        ,\n",
            "          0.        , 0.        ],\n",
            "         [0.07100823, 0.2493987 , 0.26835755, ..., 0.        ,\n",
            "          0.        , 0.        ]],\n",
            "\n",
            "        ...,\n",
            "\n",
            "        [[0.07100823, 0.2493987 , 0.26835755, ..., 0.        ,\n",
            "          0.        , 0.        ],\n",
            "         [0.07100823, 0.2493987 , 0.26835755, ..., 0.        ,\n",
            "          0.        , 0.        ],\n",
            "         [0.07100823, 0.2493987 , 0.26835755, ..., 0.        ,\n",
            "          0.        , 0.        ],\n",
            "         ...,\n",
            "         [0.07100823, 0.2493987 , 0.26835755, ..., 0.        ,\n",
            "          0.        , 0.        ],\n",
            "         [0.07100823, 0.2493987 , 0.26835755, ..., 0.        ,\n",
            "          0.        , 0.        ],\n",
            "         [0.07100823, 0.2493987 , 0.26835755, ..., 0.        ,\n",
            "          0.        , 0.        ]],\n",
            "\n",
            "        [[0.07100823, 0.2493987 , 0.26835755, ..., 0.        ,\n",
            "          0.        , 0.        ],\n",
            "         [0.07100823, 0.2493987 , 0.26835755, ..., 0.        ,\n",
            "          0.        , 0.        ],\n",
            "         [0.07100823, 0.2493987 , 0.26835755, ..., 0.        ,\n",
            "          0.        , 0.        ],\n",
            "         ...,\n",
            "         [0.07100823, 0.2493987 , 0.26835755, ..., 0.        ,\n",
            "          0.        , 0.        ],\n",
            "         [0.07100823, 0.2493987 , 0.26835755, ..., 0.        ,\n",
            "          0.        , 0.        ],\n",
            "         [0.07100823, 0.2493987 , 0.26835755, ..., 0.        ,\n",
            "          0.        , 0.        ]],\n",
            "\n",
            "        [[0.07100823, 0.2493987 , 0.26835755, ..., 0.        ,\n",
            "          0.        , 0.        ],\n",
            "         [0.07100823, 0.2493987 , 0.26835755, ..., 0.        ,\n",
            "          0.        , 0.        ],\n",
            "         [0.07100823, 0.2493987 , 0.26835755, ..., 0.        ,\n",
            "          0.        , 0.        ],\n",
            "         ...,\n",
            "         [0.07100823, 0.2493987 , 0.26835755, ..., 0.        ,\n",
            "          0.        , 0.        ],\n",
            "         [0.07100823, 0.2493987 , 0.26835755, ..., 0.        ,\n",
            "          0.        , 0.        ],\n",
            "         [0.07100823, 0.2493987 , 0.26835755, ..., 0.        ,\n",
            "          0.        , 0.        ]]]], dtype=float32)>]\n"
          ]
        }
      ]
    },
    {
      "cell_type": "markdown",
      "source": [
        "Here's a similar example that only extract features from one layer:"
      ],
      "metadata": {
        "id": "0SAurA_SjalN"
      }
    },
    {
      "cell_type": "code",
      "source": [
        "initial_model = keras.Sequential(\n",
        "    [\n",
        "        keras.Input(shape=(250, 250, 3)),\n",
        "        layers.Conv2D(32, 5, strides=2, activation=\"relu\"),\n",
        "        layers.Conv2D(32, 3, activation=\"relu\", name=\"my_intermediate_layer\"),\n",
        "        layers.Conv2D(32, 3, activation=\"relu\"),\n",
        "    ]\n",
        ")\n",
        "feature_extractor = keras.Model(\n",
        "    inputs=initial_model.inputs,\n",
        "    outputs=initial_model.get_layer(name=\"my_intermediate_layer\").output,\n",
        ")\n",
        "# Call feature extractor on test input.\n",
        "x = tf.ones((1, 250, 250, 3))\n",
        "features = feature_extractor(x)"
      ],
      "metadata": {
        "id": "QO9pfXcujboc"
      },
      "execution_count": 37,
      "outputs": []
    },
    {
      "cell_type": "markdown",
      "source": [
        "## Transfer learning with a Sequential model\n",
        "\n",
        "Transfer learning consists of freezing the bottom layers in a model and only training\n",
        "the top layers. If you aren't familiar with it, make sure to read our [guide\n",
        "to transfer learning](https://www.tensorflow.org/guide/keras/transfer_learning/).\n",
        "\n",
        "Here are two common transfer learning blueprint involving Sequential models.\n",
        "\n",
        "First, let's say that you have a Sequential model, and you want to freeze all\n",
        "layers except the last one. In this case, you would simply iterate over\n",
        "`model.layers` and set `layer.trainable = False` on each layer, except the\n",
        "last one. Like this:\n",
        "\n",
        "\n",
        "전이 학습은 모델의 bottom layers를 고정하고 top layers만 훈련하는 것으로 구성됩니다. 익숙하지 않은 경우 전이 학습에 대한 가이드를 읽으십시오.\n",
        "\n",
        "다음은 Sequential모델과 관련된 두 가지 일반적인 전이 학습 청사진입니다.\n",
        "\n",
        "먼저 Sequential 모델이 있고 마지막 레이어를 제외한 모든 레이어를 고정하고 싶다고 가정해 보겠습니다. 이 경우 model.layers를 반복하고 마지막 레이어를 제외하고 각 레이어에서 layer.trainable = False를 설정합니다. 이와 같이:\n",
        "\n",
        "```python\n",
        "model = keras.Sequential([\n",
        "    keras.Input(shape=(784)),\n",
        "    layers.Dense(32, activation='relu'),\n",
        "    layers.Dense(32, activation='relu'),\n",
        "    layers.Dense(32, activation='relu'),\n",
        "    layers.Dense(10),\n",
        "])\n",
        "\n",
        "# Presumably you would want to first load pre-trained weights.\n",
        "model.load_weights(...)\n",
        "\n",
        "# Freeze all layers except the last one.\n",
        "for layer in model.layers[:-1]:\n",
        "  layer.trainable = False\n",
        "\n",
        "# Recompile and train (this will only update the weights of the last layer).\n",
        "model.compile(...)\n",
        "model.fit(...)\n",
        "```\n",
        "\n",
        "Another common blueprint is to use a Sequential model to stack a pre-trained\n",
        "model and some freshly initialized classification layers. Like this:\n",
        "\n",
        "```python\n",
        "# Load a convolutional base with pre-trained weights\n",
        "base_model = keras.applications.Xception(\n",
        "    weights='imagenet',\n",
        "    include_top=False,\n",
        "    pooling='avg')\n",
        "\n",
        "# Freeze the base model\n",
        "base_model.trainable = False\n",
        "\n",
        "# Use a Sequential model to add a trainable classifier on top\n",
        "model = keras.Sequential([\n",
        "    base_model,\n",
        "    layers.Dense(1000),\n",
        "])\n",
        "\n",
        "# Compile & train\n",
        "model.compile(...)\n",
        "model.fit(...)\n",
        "```\n",
        "\n",
        "If you do transfer learning, you will probably find yourself frequently using\n",
        "these two patterns."
      ],
      "metadata": {
        "id": "mDnkpkpfjdzr"
      }
    },
    {
      "cell_type": "markdown",
      "source": [
        "That's about all you need to know about Sequential models!\n",
        "\n",
        "To find out more about building models in Keras, see:\n",
        "\n",
        "- [Guide to the Functional API](https://www.tensorflow.org/guide/keras/functional/)\n",
        "- [Guide to making new Layers & Models via subclassing](\n",
        "https://www.tensorflow.org/guide/keras/custom_layers_and_models/)"
      ],
      "metadata": {
        "id": "pf8-npKJjgic"
      }
    }
  ]
}